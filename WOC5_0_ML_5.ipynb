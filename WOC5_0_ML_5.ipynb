{
  "nbformat": 4,
  "nbformat_minor": 0,
  "metadata": {
    "colab": {
      "provenance": []
    },
    "kernelspec": {
      "name": "python3",
      "display_name": "Python 3"
    },
    "language_info": {
      "name": "python"
    }
  },
  "cells": [
    {
      "cell_type": "code",
      "source": [
        "#Importing Libraries:\n",
        "import numpy as np\n",
        "import pandas as pd\n",
        "import matplotlib.pyplot as plt\n",
        "import seaborn as sns\n",
        "from sklearn import preprocessing\n",
        "from sklearn.model_selection import train_test_split\n",
        "from sklearn.preprocessing import StandardScaler\n",
        "from sklearn.linear_model import LogisticRegression\n",
        "from sklearn.metrics import confusion_matrix\n",
        "from sklearn.metrics import accuracy_score\n",
        "from sklearn.tree import DecisionTreeClassifier\n",
        "from sklearn.metrics import classification_report\n",
        "from sklearn import tree"
      ],
      "metadata": {
        "id": "ejnFqBHRKnX2"
      },
      "execution_count": 43,
      "outputs": []
    },
    {
      "cell_type": "code",
      "source": [
        "#Loading the Dataset:\n",
        "weather = pd.read_csv(\"/content/weather - weather.csv\")"
      ],
      "metadata": {
        "id": "URmVmFJUK1VF"
      },
      "execution_count": 5,
      "outputs": []
    },
    {
      "cell_type": "markdown",
      "source": [
        "Data Preprocessing:"
      ],
      "metadata": {
        "id": "H5MfkRFXL64v"
      }
    },
    {
      "cell_type": "code",
      "source": [
        "weather.head()"
      ],
      "metadata": {
        "colab": {
          "base_uri": "https://localhost:8080/",
          "height": 206
        },
        "id": "wmVcIKaxLBhe",
        "outputId": "5411c83f-9fa1-4991-9473-845cd4745892"
      },
      "execution_count": 6,
      "outputs": [
        {
          "output_type": "execute_result",
          "data": {
            "text/plain": [
              "   precipitation  temp_max  temp_min  wind  weather\n",
              "0            0.0      12.8       5.0   4.7  drizzle\n",
              "1           10.9      10.6       2.8   4.5     rain\n",
              "2            0.8      11.7       7.2   2.3     rain\n",
              "3           20.3      12.2       5.6   4.7     rain\n",
              "4            1.3       8.9       2.8   6.1     rain"
            ],
            "text/html": [
              "\n",
              "  <div id=\"df-f11dd0eb-ba3e-44fe-9ead-adae226fbfe5\">\n",
              "    <div class=\"colab-df-container\">\n",
              "      <div>\n",
              "<style scoped>\n",
              "    .dataframe tbody tr th:only-of-type {\n",
              "        vertical-align: middle;\n",
              "    }\n",
              "\n",
              "    .dataframe tbody tr th {\n",
              "        vertical-align: top;\n",
              "    }\n",
              "\n",
              "    .dataframe thead th {\n",
              "        text-align: right;\n",
              "    }\n",
              "</style>\n",
              "<table border=\"1\" class=\"dataframe\">\n",
              "  <thead>\n",
              "    <tr style=\"text-align: right;\">\n",
              "      <th></th>\n",
              "      <th>precipitation</th>\n",
              "      <th>temp_max</th>\n",
              "      <th>temp_min</th>\n",
              "      <th>wind</th>\n",
              "      <th>weather</th>\n",
              "    </tr>\n",
              "  </thead>\n",
              "  <tbody>\n",
              "    <tr>\n",
              "      <th>0</th>\n",
              "      <td>0.0</td>\n",
              "      <td>12.8</td>\n",
              "      <td>5.0</td>\n",
              "      <td>4.7</td>\n",
              "      <td>drizzle</td>\n",
              "    </tr>\n",
              "    <tr>\n",
              "      <th>1</th>\n",
              "      <td>10.9</td>\n",
              "      <td>10.6</td>\n",
              "      <td>2.8</td>\n",
              "      <td>4.5</td>\n",
              "      <td>rain</td>\n",
              "    </tr>\n",
              "    <tr>\n",
              "      <th>2</th>\n",
              "      <td>0.8</td>\n",
              "      <td>11.7</td>\n",
              "      <td>7.2</td>\n",
              "      <td>2.3</td>\n",
              "      <td>rain</td>\n",
              "    </tr>\n",
              "    <tr>\n",
              "      <th>3</th>\n",
              "      <td>20.3</td>\n",
              "      <td>12.2</td>\n",
              "      <td>5.6</td>\n",
              "      <td>4.7</td>\n",
              "      <td>rain</td>\n",
              "    </tr>\n",
              "    <tr>\n",
              "      <th>4</th>\n",
              "      <td>1.3</td>\n",
              "      <td>8.9</td>\n",
              "      <td>2.8</td>\n",
              "      <td>6.1</td>\n",
              "      <td>rain</td>\n",
              "    </tr>\n",
              "  </tbody>\n",
              "</table>\n",
              "</div>\n",
              "      <button class=\"colab-df-convert\" onclick=\"convertToInteractive('df-f11dd0eb-ba3e-44fe-9ead-adae226fbfe5')\"\n",
              "              title=\"Convert this dataframe to an interactive table.\"\n",
              "              style=\"display:none;\">\n",
              "        \n",
              "  <svg xmlns=\"http://www.w3.org/2000/svg\" height=\"24px\"viewBox=\"0 0 24 24\"\n",
              "       width=\"24px\">\n",
              "    <path d=\"M0 0h24v24H0V0z\" fill=\"none\"/>\n",
              "    <path d=\"M18.56 5.44l.94 2.06.94-2.06 2.06-.94-2.06-.94-.94-2.06-.94 2.06-2.06.94zm-11 1L8.5 8.5l.94-2.06 2.06-.94-2.06-.94L8.5 2.5l-.94 2.06-2.06.94zm10 10l.94 2.06.94-2.06 2.06-.94-2.06-.94-.94-2.06-.94 2.06-2.06.94z\"/><path d=\"M17.41 7.96l-1.37-1.37c-.4-.4-.92-.59-1.43-.59-.52 0-1.04.2-1.43.59L10.3 9.45l-7.72 7.72c-.78.78-.78 2.05 0 2.83L4 21.41c.39.39.9.59 1.41.59.51 0 1.02-.2 1.41-.59l7.78-7.78 2.81-2.81c.8-.78.8-2.07 0-2.86zM5.41 20L4 18.59l7.72-7.72 1.47 1.35L5.41 20z\"/>\n",
              "  </svg>\n",
              "      </button>\n",
              "      \n",
              "  <style>\n",
              "    .colab-df-container {\n",
              "      display:flex;\n",
              "      flex-wrap:wrap;\n",
              "      gap: 12px;\n",
              "    }\n",
              "\n",
              "    .colab-df-convert {\n",
              "      background-color: #E8F0FE;\n",
              "      border: none;\n",
              "      border-radius: 50%;\n",
              "      cursor: pointer;\n",
              "      display: none;\n",
              "      fill: #1967D2;\n",
              "      height: 32px;\n",
              "      padding: 0 0 0 0;\n",
              "      width: 32px;\n",
              "    }\n",
              "\n",
              "    .colab-df-convert:hover {\n",
              "      background-color: #E2EBFA;\n",
              "      box-shadow: 0px 1px 2px rgba(60, 64, 67, 0.3), 0px 1px 3px 1px rgba(60, 64, 67, 0.15);\n",
              "      fill: #174EA6;\n",
              "    }\n",
              "\n",
              "    [theme=dark] .colab-df-convert {\n",
              "      background-color: #3B4455;\n",
              "      fill: #D2E3FC;\n",
              "    }\n",
              "\n",
              "    [theme=dark] .colab-df-convert:hover {\n",
              "      background-color: #434B5C;\n",
              "      box-shadow: 0px 1px 3px 1px rgba(0, 0, 0, 0.15);\n",
              "      filter: drop-shadow(0px 1px 2px rgba(0, 0, 0, 0.3));\n",
              "      fill: #FFFFFF;\n",
              "    }\n",
              "  </style>\n",
              "\n",
              "      <script>\n",
              "        const buttonEl =\n",
              "          document.querySelector('#df-f11dd0eb-ba3e-44fe-9ead-adae226fbfe5 button.colab-df-convert');\n",
              "        buttonEl.style.display =\n",
              "          google.colab.kernel.accessAllowed ? 'block' : 'none';\n",
              "\n",
              "        async function convertToInteractive(key) {\n",
              "          const element = document.querySelector('#df-f11dd0eb-ba3e-44fe-9ead-adae226fbfe5');\n",
              "          const dataTable =\n",
              "            await google.colab.kernel.invokeFunction('convertToInteractive',\n",
              "                                                     [key], {});\n",
              "          if (!dataTable) return;\n",
              "\n",
              "          const docLinkHtml = 'Like what you see? Visit the ' +\n",
              "            '<a target=\"_blank\" href=https://colab.research.google.com/notebooks/data_table.ipynb>data table notebook</a>'\n",
              "            + ' to learn more about interactive tables.';\n",
              "          element.innerHTML = '';\n",
              "          dataTable['output_type'] = 'display_data';\n",
              "          await google.colab.output.renderOutput(dataTable, element);\n",
              "          const docLink = document.createElement('div');\n",
              "          docLink.innerHTML = docLinkHtml;\n",
              "          element.appendChild(docLink);\n",
              "        }\n",
              "      </script>\n",
              "    </div>\n",
              "  </div>\n",
              "  "
            ]
          },
          "metadata": {},
          "execution_count": 6
        }
      ]
    },
    {
      "cell_type": "code",
      "source": [
        "weather.shape"
      ],
      "metadata": {
        "colab": {
          "base_uri": "https://localhost:8080/"
        },
        "id": "vHDKUsDELvve",
        "outputId": "3ec3a905-ad96-41ce-ada0-140419ad49d9"
      },
      "execution_count": 7,
      "outputs": [
        {
          "output_type": "execute_result",
          "data": {
            "text/plain": [
              "(1461, 5)"
            ]
          },
          "metadata": {},
          "execution_count": 7
        }
      ]
    },
    {
      "cell_type": "code",
      "source": [
        "weather.info()"
      ],
      "metadata": {
        "colab": {
          "base_uri": "https://localhost:8080/"
        },
        "id": "Td_yCRWWLD0n",
        "outputId": "835bbe32-1bfc-45e8-c3ff-6a8ed016a8fb"
      },
      "execution_count": 8,
      "outputs": [
        {
          "output_type": "stream",
          "name": "stdout",
          "text": [
            "<class 'pandas.core.frame.DataFrame'>\n",
            "RangeIndex: 1461 entries, 0 to 1460\n",
            "Data columns (total 5 columns):\n",
            " #   Column         Non-Null Count  Dtype  \n",
            "---  ------         --------------  -----  \n",
            " 0   precipitation  1461 non-null   float64\n",
            " 1   temp_max       1461 non-null   float64\n",
            " 2   temp_min       1461 non-null   float64\n",
            " 3   wind           1461 non-null   float64\n",
            " 4   weather        1461 non-null   object \n",
            "dtypes: float64(4), object(1)\n",
            "memory usage: 57.2+ KB\n"
          ]
        }
      ]
    },
    {
      "cell_type": "code",
      "source": [
        "weather.isnull().sum()"
      ],
      "metadata": {
        "colab": {
          "base_uri": "https://localhost:8080/"
        },
        "id": "SH2anuGrLlSD",
        "outputId": "09c7ffb6-ee4e-4c33-ac42-e1ba307587ca"
      },
      "execution_count": 9,
      "outputs": [
        {
          "output_type": "execute_result",
          "data": {
            "text/plain": [
              "precipitation    0\n",
              "temp_max         0\n",
              "temp_min         0\n",
              "wind             0\n",
              "weather          0\n",
              "dtype: int64"
            ]
          },
          "metadata": {},
          "execution_count": 9
        }
      ]
    },
    {
      "cell_type": "code",
      "source": [
        "weather.drop_duplicates()"
      ],
      "metadata": {
        "colab": {
          "base_uri": "https://localhost:8080/",
          "height": 423
        },
        "id": "9b-q3YN5LoNH",
        "outputId": "0b8ef1a1-a309-4886-ecad-0c09d1dcefa1"
      },
      "execution_count": 10,
      "outputs": [
        {
          "output_type": "execute_result",
          "data": {
            "text/plain": [
              "      precipitation  temp_max  temp_min  wind  weather\n",
              "0               0.0      12.8       5.0   4.7  drizzle\n",
              "1              10.9      10.6       2.8   4.5     rain\n",
              "2               0.8      11.7       7.2   2.3     rain\n",
              "3              20.3      12.2       5.6   4.7     rain\n",
              "4               1.3       8.9       2.8   6.1     rain\n",
              "...             ...       ...       ...   ...      ...\n",
              "1456            8.6       4.4       1.7   2.9     rain\n",
              "1457            1.5       5.0       1.7   1.3     rain\n",
              "1458            0.0       7.2       0.6   2.6      fog\n",
              "1459            0.0       5.6      -1.0   3.4      sun\n",
              "1460            0.0       5.6      -2.1   3.5      sun\n",
              "\n",
              "[1453 rows x 5 columns]"
            ],
            "text/html": [
              "\n",
              "  <div id=\"df-c94988ba-c57b-403d-90e1-d54d5c0c8262\">\n",
              "    <div class=\"colab-df-container\">\n",
              "      <div>\n",
              "<style scoped>\n",
              "    .dataframe tbody tr th:only-of-type {\n",
              "        vertical-align: middle;\n",
              "    }\n",
              "\n",
              "    .dataframe tbody tr th {\n",
              "        vertical-align: top;\n",
              "    }\n",
              "\n",
              "    .dataframe thead th {\n",
              "        text-align: right;\n",
              "    }\n",
              "</style>\n",
              "<table border=\"1\" class=\"dataframe\">\n",
              "  <thead>\n",
              "    <tr style=\"text-align: right;\">\n",
              "      <th></th>\n",
              "      <th>precipitation</th>\n",
              "      <th>temp_max</th>\n",
              "      <th>temp_min</th>\n",
              "      <th>wind</th>\n",
              "      <th>weather</th>\n",
              "    </tr>\n",
              "  </thead>\n",
              "  <tbody>\n",
              "    <tr>\n",
              "      <th>0</th>\n",
              "      <td>0.0</td>\n",
              "      <td>12.8</td>\n",
              "      <td>5.0</td>\n",
              "      <td>4.7</td>\n",
              "      <td>drizzle</td>\n",
              "    </tr>\n",
              "    <tr>\n",
              "      <th>1</th>\n",
              "      <td>10.9</td>\n",
              "      <td>10.6</td>\n",
              "      <td>2.8</td>\n",
              "      <td>4.5</td>\n",
              "      <td>rain</td>\n",
              "    </tr>\n",
              "    <tr>\n",
              "      <th>2</th>\n",
              "      <td>0.8</td>\n",
              "      <td>11.7</td>\n",
              "      <td>7.2</td>\n",
              "      <td>2.3</td>\n",
              "      <td>rain</td>\n",
              "    </tr>\n",
              "    <tr>\n",
              "      <th>3</th>\n",
              "      <td>20.3</td>\n",
              "      <td>12.2</td>\n",
              "      <td>5.6</td>\n",
              "      <td>4.7</td>\n",
              "      <td>rain</td>\n",
              "    </tr>\n",
              "    <tr>\n",
              "      <th>4</th>\n",
              "      <td>1.3</td>\n",
              "      <td>8.9</td>\n",
              "      <td>2.8</td>\n",
              "      <td>6.1</td>\n",
              "      <td>rain</td>\n",
              "    </tr>\n",
              "    <tr>\n",
              "      <th>...</th>\n",
              "      <td>...</td>\n",
              "      <td>...</td>\n",
              "      <td>...</td>\n",
              "      <td>...</td>\n",
              "      <td>...</td>\n",
              "    </tr>\n",
              "    <tr>\n",
              "      <th>1456</th>\n",
              "      <td>8.6</td>\n",
              "      <td>4.4</td>\n",
              "      <td>1.7</td>\n",
              "      <td>2.9</td>\n",
              "      <td>rain</td>\n",
              "    </tr>\n",
              "    <tr>\n",
              "      <th>1457</th>\n",
              "      <td>1.5</td>\n",
              "      <td>5.0</td>\n",
              "      <td>1.7</td>\n",
              "      <td>1.3</td>\n",
              "      <td>rain</td>\n",
              "    </tr>\n",
              "    <tr>\n",
              "      <th>1458</th>\n",
              "      <td>0.0</td>\n",
              "      <td>7.2</td>\n",
              "      <td>0.6</td>\n",
              "      <td>2.6</td>\n",
              "      <td>fog</td>\n",
              "    </tr>\n",
              "    <tr>\n",
              "      <th>1459</th>\n",
              "      <td>0.0</td>\n",
              "      <td>5.6</td>\n",
              "      <td>-1.0</td>\n",
              "      <td>3.4</td>\n",
              "      <td>sun</td>\n",
              "    </tr>\n",
              "    <tr>\n",
              "      <th>1460</th>\n",
              "      <td>0.0</td>\n",
              "      <td>5.6</td>\n",
              "      <td>-2.1</td>\n",
              "      <td>3.5</td>\n",
              "      <td>sun</td>\n",
              "    </tr>\n",
              "  </tbody>\n",
              "</table>\n",
              "<p>1453 rows × 5 columns</p>\n",
              "</div>\n",
              "      <button class=\"colab-df-convert\" onclick=\"convertToInteractive('df-c94988ba-c57b-403d-90e1-d54d5c0c8262')\"\n",
              "              title=\"Convert this dataframe to an interactive table.\"\n",
              "              style=\"display:none;\">\n",
              "        \n",
              "  <svg xmlns=\"http://www.w3.org/2000/svg\" height=\"24px\"viewBox=\"0 0 24 24\"\n",
              "       width=\"24px\">\n",
              "    <path d=\"M0 0h24v24H0V0z\" fill=\"none\"/>\n",
              "    <path d=\"M18.56 5.44l.94 2.06.94-2.06 2.06-.94-2.06-.94-.94-2.06-.94 2.06-2.06.94zm-11 1L8.5 8.5l.94-2.06 2.06-.94-2.06-.94L8.5 2.5l-.94 2.06-2.06.94zm10 10l.94 2.06.94-2.06 2.06-.94-2.06-.94-.94-2.06-.94 2.06-2.06.94z\"/><path d=\"M17.41 7.96l-1.37-1.37c-.4-.4-.92-.59-1.43-.59-.52 0-1.04.2-1.43.59L10.3 9.45l-7.72 7.72c-.78.78-.78 2.05 0 2.83L4 21.41c.39.39.9.59 1.41.59.51 0 1.02-.2 1.41-.59l7.78-7.78 2.81-2.81c.8-.78.8-2.07 0-2.86zM5.41 20L4 18.59l7.72-7.72 1.47 1.35L5.41 20z\"/>\n",
              "  </svg>\n",
              "      </button>\n",
              "      \n",
              "  <style>\n",
              "    .colab-df-container {\n",
              "      display:flex;\n",
              "      flex-wrap:wrap;\n",
              "      gap: 12px;\n",
              "    }\n",
              "\n",
              "    .colab-df-convert {\n",
              "      background-color: #E8F0FE;\n",
              "      border: none;\n",
              "      border-radius: 50%;\n",
              "      cursor: pointer;\n",
              "      display: none;\n",
              "      fill: #1967D2;\n",
              "      height: 32px;\n",
              "      padding: 0 0 0 0;\n",
              "      width: 32px;\n",
              "    }\n",
              "\n",
              "    .colab-df-convert:hover {\n",
              "      background-color: #E2EBFA;\n",
              "      box-shadow: 0px 1px 2px rgba(60, 64, 67, 0.3), 0px 1px 3px 1px rgba(60, 64, 67, 0.15);\n",
              "      fill: #174EA6;\n",
              "    }\n",
              "\n",
              "    [theme=dark] .colab-df-convert {\n",
              "      background-color: #3B4455;\n",
              "      fill: #D2E3FC;\n",
              "    }\n",
              "\n",
              "    [theme=dark] .colab-df-convert:hover {\n",
              "      background-color: #434B5C;\n",
              "      box-shadow: 0px 1px 3px 1px rgba(0, 0, 0, 0.15);\n",
              "      filter: drop-shadow(0px 1px 2px rgba(0, 0, 0, 0.3));\n",
              "      fill: #FFFFFF;\n",
              "    }\n",
              "  </style>\n",
              "\n",
              "      <script>\n",
              "        const buttonEl =\n",
              "          document.querySelector('#df-c94988ba-c57b-403d-90e1-d54d5c0c8262 button.colab-df-convert');\n",
              "        buttonEl.style.display =\n",
              "          google.colab.kernel.accessAllowed ? 'block' : 'none';\n",
              "\n",
              "        async function convertToInteractive(key) {\n",
              "          const element = document.querySelector('#df-c94988ba-c57b-403d-90e1-d54d5c0c8262');\n",
              "          const dataTable =\n",
              "            await google.colab.kernel.invokeFunction('convertToInteractive',\n",
              "                                                     [key], {});\n",
              "          if (!dataTable) return;\n",
              "\n",
              "          const docLinkHtml = 'Like what you see? Visit the ' +\n",
              "            '<a target=\"_blank\" href=https://colab.research.google.com/notebooks/data_table.ipynb>data table notebook</a>'\n",
              "            + ' to learn more about interactive tables.';\n",
              "          element.innerHTML = '';\n",
              "          dataTable['output_type'] = 'display_data';\n",
              "          await google.colab.output.renderOutput(dataTable, element);\n",
              "          const docLink = document.createElement('div');\n",
              "          docLink.innerHTML = docLinkHtml;\n",
              "          element.appendChild(docLink);\n",
              "        }\n",
              "      </script>\n",
              "    </div>\n",
              "  </div>\n",
              "  "
            ]
          },
          "metadata": {},
          "execution_count": 10
        }
      ]
    },
    {
      "cell_type": "code",
      "source": [
        "weather.shape"
      ],
      "metadata": {
        "colab": {
          "base_uri": "https://localhost:8080/"
        },
        "id": "P44WKfd8Lrnw",
        "outputId": "f693c40e-06f4-46a3-be14-088c4d3837a5"
      },
      "execution_count": 11,
      "outputs": [
        {
          "output_type": "execute_result",
          "data": {
            "text/plain": [
              "(1461, 5)"
            ]
          },
          "metadata": {},
          "execution_count": 11
        }
      ]
    },
    {
      "cell_type": "markdown",
      "source": [
        "Feature Extraction:"
      ],
      "metadata": {
        "id": "CSwi64zXLzcs"
      }
    },
    {
      "cell_type": "code",
      "source": [
        "print(weather['weather'].unique())"
      ],
      "metadata": {
        "colab": {
          "base_uri": "https://localhost:8080/"
        },
        "id": "CiL01tBKM_EY",
        "outputId": "3372771a-af15-4f7e-e9ee-b97696c98778"
      },
      "execution_count": 12,
      "outputs": [
        {
          "output_type": "stream",
          "name": "stdout",
          "text": [
            "['drizzle' 'rain' 'sun' 'snow' 'fog']\n"
          ]
        }
      ]
    },
    {
      "cell_type": "code",
      "source": [
        "weather['weather'].value_counts()"
      ],
      "metadata": {
        "colab": {
          "base_uri": "https://localhost:8080/"
        },
        "id": "RaPZwkECOUiV",
        "outputId": "2b24b3d4-b039-4c96-c7ed-851f948d2144"
      },
      "execution_count": 13,
      "outputs": [
        {
          "output_type": "execute_result",
          "data": {
            "text/plain": [
              "rain       641\n",
              "sun        640\n",
              "fog        101\n",
              "drizzle     53\n",
              "snow        26\n",
              "Name: weather, dtype: int64"
            ]
          },
          "metadata": {},
          "execution_count": 13
        }
      ]
    },
    {
      "cell_type": "code",
      "source": [
        "from sklearn.preprocessing import LabelEncoder\n",
        "\n",
        "le = LabelEncoder()\n",
        "le.fit(list(weather['weather']))\n",
        "weather['weather_cat'] = weather['weather'].apply(lambda x: le.transform([x])[0])\n",
        "weather[['weather','weather_cat']].value_counts()\n",
        "     "
      ],
      "metadata": {
        "colab": {
          "base_uri": "https://localhost:8080/"
        },
        "id": "T7EMfTONPXk6",
        "outputId": "a3344f3b-0f61-4dd7-f21d-e74993718056"
      },
      "execution_count": 14,
      "outputs": [
        {
          "output_type": "execute_result",
          "data": {
            "text/plain": [
              "weather  weather_cat\n",
              "rain     2              641\n",
              "sun      4              640\n",
              "fog      1              101\n",
              "drizzle  0               53\n",
              "snow     3               26\n",
              "dtype: int64"
            ]
          },
          "metadata": {},
          "execution_count": 14
        }
      ]
    },
    {
      "cell_type": "code",
      "source": [
        "weather.head()"
      ],
      "metadata": {
        "colab": {
          "base_uri": "https://localhost:8080/",
          "height": 206
        },
        "id": "sRabwI10Pv2q",
        "outputId": "e4a471d4-e522-4dbd-85ba-acca06be66d8"
      },
      "execution_count": 15,
      "outputs": [
        {
          "output_type": "execute_result",
          "data": {
            "text/plain": [
              "   precipitation  temp_max  temp_min  wind  weather  weather_cat\n",
              "0            0.0      12.8       5.0   4.7  drizzle            0\n",
              "1           10.9      10.6       2.8   4.5     rain            2\n",
              "2            0.8      11.7       7.2   2.3     rain            2\n",
              "3           20.3      12.2       5.6   4.7     rain            2\n",
              "4            1.3       8.9       2.8   6.1     rain            2"
            ],
            "text/html": [
              "\n",
              "  <div id=\"df-f84273af-46a1-4def-9597-08c2b5512c9a\">\n",
              "    <div class=\"colab-df-container\">\n",
              "      <div>\n",
              "<style scoped>\n",
              "    .dataframe tbody tr th:only-of-type {\n",
              "        vertical-align: middle;\n",
              "    }\n",
              "\n",
              "    .dataframe tbody tr th {\n",
              "        vertical-align: top;\n",
              "    }\n",
              "\n",
              "    .dataframe thead th {\n",
              "        text-align: right;\n",
              "    }\n",
              "</style>\n",
              "<table border=\"1\" class=\"dataframe\">\n",
              "  <thead>\n",
              "    <tr style=\"text-align: right;\">\n",
              "      <th></th>\n",
              "      <th>precipitation</th>\n",
              "      <th>temp_max</th>\n",
              "      <th>temp_min</th>\n",
              "      <th>wind</th>\n",
              "      <th>weather</th>\n",
              "      <th>weather_cat</th>\n",
              "    </tr>\n",
              "  </thead>\n",
              "  <tbody>\n",
              "    <tr>\n",
              "      <th>0</th>\n",
              "      <td>0.0</td>\n",
              "      <td>12.8</td>\n",
              "      <td>5.0</td>\n",
              "      <td>4.7</td>\n",
              "      <td>drizzle</td>\n",
              "      <td>0</td>\n",
              "    </tr>\n",
              "    <tr>\n",
              "      <th>1</th>\n",
              "      <td>10.9</td>\n",
              "      <td>10.6</td>\n",
              "      <td>2.8</td>\n",
              "      <td>4.5</td>\n",
              "      <td>rain</td>\n",
              "      <td>2</td>\n",
              "    </tr>\n",
              "    <tr>\n",
              "      <th>2</th>\n",
              "      <td>0.8</td>\n",
              "      <td>11.7</td>\n",
              "      <td>7.2</td>\n",
              "      <td>2.3</td>\n",
              "      <td>rain</td>\n",
              "      <td>2</td>\n",
              "    </tr>\n",
              "    <tr>\n",
              "      <th>3</th>\n",
              "      <td>20.3</td>\n",
              "      <td>12.2</td>\n",
              "      <td>5.6</td>\n",
              "      <td>4.7</td>\n",
              "      <td>rain</td>\n",
              "      <td>2</td>\n",
              "    </tr>\n",
              "    <tr>\n",
              "      <th>4</th>\n",
              "      <td>1.3</td>\n",
              "      <td>8.9</td>\n",
              "      <td>2.8</td>\n",
              "      <td>6.1</td>\n",
              "      <td>rain</td>\n",
              "      <td>2</td>\n",
              "    </tr>\n",
              "  </tbody>\n",
              "</table>\n",
              "</div>\n",
              "      <button class=\"colab-df-convert\" onclick=\"convertToInteractive('df-f84273af-46a1-4def-9597-08c2b5512c9a')\"\n",
              "              title=\"Convert this dataframe to an interactive table.\"\n",
              "              style=\"display:none;\">\n",
              "        \n",
              "  <svg xmlns=\"http://www.w3.org/2000/svg\" height=\"24px\"viewBox=\"0 0 24 24\"\n",
              "       width=\"24px\">\n",
              "    <path d=\"M0 0h24v24H0V0z\" fill=\"none\"/>\n",
              "    <path d=\"M18.56 5.44l.94 2.06.94-2.06 2.06-.94-2.06-.94-.94-2.06-.94 2.06-2.06.94zm-11 1L8.5 8.5l.94-2.06 2.06-.94-2.06-.94L8.5 2.5l-.94 2.06-2.06.94zm10 10l.94 2.06.94-2.06 2.06-.94-2.06-.94-.94-2.06-.94 2.06-2.06.94z\"/><path d=\"M17.41 7.96l-1.37-1.37c-.4-.4-.92-.59-1.43-.59-.52 0-1.04.2-1.43.59L10.3 9.45l-7.72 7.72c-.78.78-.78 2.05 0 2.83L4 21.41c.39.39.9.59 1.41.59.51 0 1.02-.2 1.41-.59l7.78-7.78 2.81-2.81c.8-.78.8-2.07 0-2.86zM5.41 20L4 18.59l7.72-7.72 1.47 1.35L5.41 20z\"/>\n",
              "  </svg>\n",
              "      </button>\n",
              "      \n",
              "  <style>\n",
              "    .colab-df-container {\n",
              "      display:flex;\n",
              "      flex-wrap:wrap;\n",
              "      gap: 12px;\n",
              "    }\n",
              "\n",
              "    .colab-df-convert {\n",
              "      background-color: #E8F0FE;\n",
              "      border: none;\n",
              "      border-radius: 50%;\n",
              "      cursor: pointer;\n",
              "      display: none;\n",
              "      fill: #1967D2;\n",
              "      height: 32px;\n",
              "      padding: 0 0 0 0;\n",
              "      width: 32px;\n",
              "    }\n",
              "\n",
              "    .colab-df-convert:hover {\n",
              "      background-color: #E2EBFA;\n",
              "      box-shadow: 0px 1px 2px rgba(60, 64, 67, 0.3), 0px 1px 3px 1px rgba(60, 64, 67, 0.15);\n",
              "      fill: #174EA6;\n",
              "    }\n",
              "\n",
              "    [theme=dark] .colab-df-convert {\n",
              "      background-color: #3B4455;\n",
              "      fill: #D2E3FC;\n",
              "    }\n",
              "\n",
              "    [theme=dark] .colab-df-convert:hover {\n",
              "      background-color: #434B5C;\n",
              "      box-shadow: 0px 1px 3px 1px rgba(0, 0, 0, 0.15);\n",
              "      filter: drop-shadow(0px 1px 2px rgba(0, 0, 0, 0.3));\n",
              "      fill: #FFFFFF;\n",
              "    }\n",
              "  </style>\n",
              "\n",
              "      <script>\n",
              "        const buttonEl =\n",
              "          document.querySelector('#df-f84273af-46a1-4def-9597-08c2b5512c9a button.colab-df-convert');\n",
              "        buttonEl.style.display =\n",
              "          google.colab.kernel.accessAllowed ? 'block' : 'none';\n",
              "\n",
              "        async function convertToInteractive(key) {\n",
              "          const element = document.querySelector('#df-f84273af-46a1-4def-9597-08c2b5512c9a');\n",
              "          const dataTable =\n",
              "            await google.colab.kernel.invokeFunction('convertToInteractive',\n",
              "                                                     [key], {});\n",
              "          if (!dataTable) return;\n",
              "\n",
              "          const docLinkHtml = 'Like what you see? Visit the ' +\n",
              "            '<a target=\"_blank\" href=https://colab.research.google.com/notebooks/data_table.ipynb>data table notebook</a>'\n",
              "            + ' to learn more about interactive tables.';\n",
              "          element.innerHTML = '';\n",
              "          dataTable['output_type'] = 'display_data';\n",
              "          await google.colab.output.renderOutput(dataTable, element);\n",
              "          const docLink = document.createElement('div');\n",
              "          docLink.innerHTML = docLinkHtml;\n",
              "          element.appendChild(docLink);\n",
              "        }\n",
              "      </script>\n",
              "    </div>\n",
              "  </div>\n",
              "  "
            ]
          },
          "metadata": {},
          "execution_count": 15
        }
      ]
    },
    {
      "cell_type": "code",
      "source": [
        "weather['temp_avg'] = (weather['temp_max']+ weather['temp_min'])/2"
      ],
      "metadata": {
        "id": "OTOe-5SHPyWF"
      },
      "execution_count": 16,
      "outputs": []
    },
    {
      "cell_type": "code",
      "source": [
        "weather.head()"
      ],
      "metadata": {
        "colab": {
          "base_uri": "https://localhost:8080/",
          "height": 206
        },
        "id": "zQuootyaQzxb",
        "outputId": "d6cf6229-6490-4b06-e933-ac30031b447c"
      },
      "execution_count": 17,
      "outputs": [
        {
          "output_type": "execute_result",
          "data": {
            "text/plain": [
              "   precipitation  temp_max  temp_min  wind  weather  weather_cat  temp_avg\n",
              "0            0.0      12.8       5.0   4.7  drizzle            0      8.90\n",
              "1           10.9      10.6       2.8   4.5     rain            2      6.70\n",
              "2            0.8      11.7       7.2   2.3     rain            2      9.45\n",
              "3           20.3      12.2       5.6   4.7     rain            2      8.90\n",
              "4            1.3       8.9       2.8   6.1     rain            2      5.85"
            ],
            "text/html": [
              "\n",
              "  <div id=\"df-a9742c0b-e1dd-40b4-b78e-4ed6a93983be\">\n",
              "    <div class=\"colab-df-container\">\n",
              "      <div>\n",
              "<style scoped>\n",
              "    .dataframe tbody tr th:only-of-type {\n",
              "        vertical-align: middle;\n",
              "    }\n",
              "\n",
              "    .dataframe tbody tr th {\n",
              "        vertical-align: top;\n",
              "    }\n",
              "\n",
              "    .dataframe thead th {\n",
              "        text-align: right;\n",
              "    }\n",
              "</style>\n",
              "<table border=\"1\" class=\"dataframe\">\n",
              "  <thead>\n",
              "    <tr style=\"text-align: right;\">\n",
              "      <th></th>\n",
              "      <th>precipitation</th>\n",
              "      <th>temp_max</th>\n",
              "      <th>temp_min</th>\n",
              "      <th>wind</th>\n",
              "      <th>weather</th>\n",
              "      <th>weather_cat</th>\n",
              "      <th>temp_avg</th>\n",
              "    </tr>\n",
              "  </thead>\n",
              "  <tbody>\n",
              "    <tr>\n",
              "      <th>0</th>\n",
              "      <td>0.0</td>\n",
              "      <td>12.8</td>\n",
              "      <td>5.0</td>\n",
              "      <td>4.7</td>\n",
              "      <td>drizzle</td>\n",
              "      <td>0</td>\n",
              "      <td>8.90</td>\n",
              "    </tr>\n",
              "    <tr>\n",
              "      <th>1</th>\n",
              "      <td>10.9</td>\n",
              "      <td>10.6</td>\n",
              "      <td>2.8</td>\n",
              "      <td>4.5</td>\n",
              "      <td>rain</td>\n",
              "      <td>2</td>\n",
              "      <td>6.70</td>\n",
              "    </tr>\n",
              "    <tr>\n",
              "      <th>2</th>\n",
              "      <td>0.8</td>\n",
              "      <td>11.7</td>\n",
              "      <td>7.2</td>\n",
              "      <td>2.3</td>\n",
              "      <td>rain</td>\n",
              "      <td>2</td>\n",
              "      <td>9.45</td>\n",
              "    </tr>\n",
              "    <tr>\n",
              "      <th>3</th>\n",
              "      <td>20.3</td>\n",
              "      <td>12.2</td>\n",
              "      <td>5.6</td>\n",
              "      <td>4.7</td>\n",
              "      <td>rain</td>\n",
              "      <td>2</td>\n",
              "      <td>8.90</td>\n",
              "    </tr>\n",
              "    <tr>\n",
              "      <th>4</th>\n",
              "      <td>1.3</td>\n",
              "      <td>8.9</td>\n",
              "      <td>2.8</td>\n",
              "      <td>6.1</td>\n",
              "      <td>rain</td>\n",
              "      <td>2</td>\n",
              "      <td>5.85</td>\n",
              "    </tr>\n",
              "  </tbody>\n",
              "</table>\n",
              "</div>\n",
              "      <button class=\"colab-df-convert\" onclick=\"convertToInteractive('df-a9742c0b-e1dd-40b4-b78e-4ed6a93983be')\"\n",
              "              title=\"Convert this dataframe to an interactive table.\"\n",
              "              style=\"display:none;\">\n",
              "        \n",
              "  <svg xmlns=\"http://www.w3.org/2000/svg\" height=\"24px\"viewBox=\"0 0 24 24\"\n",
              "       width=\"24px\">\n",
              "    <path d=\"M0 0h24v24H0V0z\" fill=\"none\"/>\n",
              "    <path d=\"M18.56 5.44l.94 2.06.94-2.06 2.06-.94-2.06-.94-.94-2.06-.94 2.06-2.06.94zm-11 1L8.5 8.5l.94-2.06 2.06-.94-2.06-.94L8.5 2.5l-.94 2.06-2.06.94zm10 10l.94 2.06.94-2.06 2.06-.94-2.06-.94-.94-2.06-.94 2.06-2.06.94z\"/><path d=\"M17.41 7.96l-1.37-1.37c-.4-.4-.92-.59-1.43-.59-.52 0-1.04.2-1.43.59L10.3 9.45l-7.72 7.72c-.78.78-.78 2.05 0 2.83L4 21.41c.39.39.9.59 1.41.59.51 0 1.02-.2 1.41-.59l7.78-7.78 2.81-2.81c.8-.78.8-2.07 0-2.86zM5.41 20L4 18.59l7.72-7.72 1.47 1.35L5.41 20z\"/>\n",
              "  </svg>\n",
              "      </button>\n",
              "      \n",
              "  <style>\n",
              "    .colab-df-container {\n",
              "      display:flex;\n",
              "      flex-wrap:wrap;\n",
              "      gap: 12px;\n",
              "    }\n",
              "\n",
              "    .colab-df-convert {\n",
              "      background-color: #E8F0FE;\n",
              "      border: none;\n",
              "      border-radius: 50%;\n",
              "      cursor: pointer;\n",
              "      display: none;\n",
              "      fill: #1967D2;\n",
              "      height: 32px;\n",
              "      padding: 0 0 0 0;\n",
              "      width: 32px;\n",
              "    }\n",
              "\n",
              "    .colab-df-convert:hover {\n",
              "      background-color: #E2EBFA;\n",
              "      box-shadow: 0px 1px 2px rgba(60, 64, 67, 0.3), 0px 1px 3px 1px rgba(60, 64, 67, 0.15);\n",
              "      fill: #174EA6;\n",
              "    }\n",
              "\n",
              "    [theme=dark] .colab-df-convert {\n",
              "      background-color: #3B4455;\n",
              "      fill: #D2E3FC;\n",
              "    }\n",
              "\n",
              "    [theme=dark] .colab-df-convert:hover {\n",
              "      background-color: #434B5C;\n",
              "      box-shadow: 0px 1px 3px 1px rgba(0, 0, 0, 0.15);\n",
              "      filter: drop-shadow(0px 1px 2px rgba(0, 0, 0, 0.3));\n",
              "      fill: #FFFFFF;\n",
              "    }\n",
              "  </style>\n",
              "\n",
              "      <script>\n",
              "        const buttonEl =\n",
              "          document.querySelector('#df-a9742c0b-e1dd-40b4-b78e-4ed6a93983be button.colab-df-convert');\n",
              "        buttonEl.style.display =\n",
              "          google.colab.kernel.accessAllowed ? 'block' : 'none';\n",
              "\n",
              "        async function convertToInteractive(key) {\n",
              "          const element = document.querySelector('#df-a9742c0b-e1dd-40b4-b78e-4ed6a93983be');\n",
              "          const dataTable =\n",
              "            await google.colab.kernel.invokeFunction('convertToInteractive',\n",
              "                                                     [key], {});\n",
              "          if (!dataTable) return;\n",
              "\n",
              "          const docLinkHtml = 'Like what you see? Visit the ' +\n",
              "            '<a target=\"_blank\" href=https://colab.research.google.com/notebooks/data_table.ipynb>data table notebook</a>'\n",
              "            + ' to learn more about interactive tables.';\n",
              "          element.innerHTML = '';\n",
              "          dataTable['output_type'] = 'display_data';\n",
              "          await google.colab.output.renderOutput(dataTable, element);\n",
              "          const docLink = document.createElement('div');\n",
              "          docLink.innerHTML = docLinkHtml;\n",
              "          element.appendChild(docLink);\n",
              "        }\n",
              "      </script>\n",
              "    </div>\n",
              "  </div>\n",
              "  "
            ]
          },
          "metadata": {},
          "execution_count": 17
        }
      ]
    },
    {
      "cell_type": "code",
      "source": [
        "weather = weather[['precipitation', 'wind', 'weather_cat', 'temp_avg']]"
      ],
      "metadata": {
        "id": "YA7Zy52yQFHx"
      },
      "execution_count": 18,
      "outputs": []
    },
    {
      "cell_type": "code",
      "source": [
        "weather.head()"
      ],
      "metadata": {
        "colab": {
          "base_uri": "https://localhost:8080/",
          "height": 206
        },
        "id": "qGV8NV30Q7h1",
        "outputId": "bfe189d9-cef8-4649-dd78-0ab76aad3d00"
      },
      "execution_count": 19,
      "outputs": [
        {
          "output_type": "execute_result",
          "data": {
            "text/plain": [
              "   precipitation  wind  weather_cat  temp_avg\n",
              "0            0.0   4.7            0      8.90\n",
              "1           10.9   4.5            2      6.70\n",
              "2            0.8   2.3            2      9.45\n",
              "3           20.3   4.7            2      8.90\n",
              "4            1.3   6.1            2      5.85"
            ],
            "text/html": [
              "\n",
              "  <div id=\"df-16f23333-587c-4957-8ab9-e77db235aa7d\">\n",
              "    <div class=\"colab-df-container\">\n",
              "      <div>\n",
              "<style scoped>\n",
              "    .dataframe tbody tr th:only-of-type {\n",
              "        vertical-align: middle;\n",
              "    }\n",
              "\n",
              "    .dataframe tbody tr th {\n",
              "        vertical-align: top;\n",
              "    }\n",
              "\n",
              "    .dataframe thead th {\n",
              "        text-align: right;\n",
              "    }\n",
              "</style>\n",
              "<table border=\"1\" class=\"dataframe\">\n",
              "  <thead>\n",
              "    <tr style=\"text-align: right;\">\n",
              "      <th></th>\n",
              "      <th>precipitation</th>\n",
              "      <th>wind</th>\n",
              "      <th>weather_cat</th>\n",
              "      <th>temp_avg</th>\n",
              "    </tr>\n",
              "  </thead>\n",
              "  <tbody>\n",
              "    <tr>\n",
              "      <th>0</th>\n",
              "      <td>0.0</td>\n",
              "      <td>4.7</td>\n",
              "      <td>0</td>\n",
              "      <td>8.90</td>\n",
              "    </tr>\n",
              "    <tr>\n",
              "      <th>1</th>\n",
              "      <td>10.9</td>\n",
              "      <td>4.5</td>\n",
              "      <td>2</td>\n",
              "      <td>6.70</td>\n",
              "    </tr>\n",
              "    <tr>\n",
              "      <th>2</th>\n",
              "      <td>0.8</td>\n",
              "      <td>2.3</td>\n",
              "      <td>2</td>\n",
              "      <td>9.45</td>\n",
              "    </tr>\n",
              "    <tr>\n",
              "      <th>3</th>\n",
              "      <td>20.3</td>\n",
              "      <td>4.7</td>\n",
              "      <td>2</td>\n",
              "      <td>8.90</td>\n",
              "    </tr>\n",
              "    <tr>\n",
              "      <th>4</th>\n",
              "      <td>1.3</td>\n",
              "      <td>6.1</td>\n",
              "      <td>2</td>\n",
              "      <td>5.85</td>\n",
              "    </tr>\n",
              "  </tbody>\n",
              "</table>\n",
              "</div>\n",
              "      <button class=\"colab-df-convert\" onclick=\"convertToInteractive('df-16f23333-587c-4957-8ab9-e77db235aa7d')\"\n",
              "              title=\"Convert this dataframe to an interactive table.\"\n",
              "              style=\"display:none;\">\n",
              "        \n",
              "  <svg xmlns=\"http://www.w3.org/2000/svg\" height=\"24px\"viewBox=\"0 0 24 24\"\n",
              "       width=\"24px\">\n",
              "    <path d=\"M0 0h24v24H0V0z\" fill=\"none\"/>\n",
              "    <path d=\"M18.56 5.44l.94 2.06.94-2.06 2.06-.94-2.06-.94-.94-2.06-.94 2.06-2.06.94zm-11 1L8.5 8.5l.94-2.06 2.06-.94-2.06-.94L8.5 2.5l-.94 2.06-2.06.94zm10 10l.94 2.06.94-2.06 2.06-.94-2.06-.94-.94-2.06-.94 2.06-2.06.94z\"/><path d=\"M17.41 7.96l-1.37-1.37c-.4-.4-.92-.59-1.43-.59-.52 0-1.04.2-1.43.59L10.3 9.45l-7.72 7.72c-.78.78-.78 2.05 0 2.83L4 21.41c.39.39.9.59 1.41.59.51 0 1.02-.2 1.41-.59l7.78-7.78 2.81-2.81c.8-.78.8-2.07 0-2.86zM5.41 20L4 18.59l7.72-7.72 1.47 1.35L5.41 20z\"/>\n",
              "  </svg>\n",
              "      </button>\n",
              "      \n",
              "  <style>\n",
              "    .colab-df-container {\n",
              "      display:flex;\n",
              "      flex-wrap:wrap;\n",
              "      gap: 12px;\n",
              "    }\n",
              "\n",
              "    .colab-df-convert {\n",
              "      background-color: #E8F0FE;\n",
              "      border: none;\n",
              "      border-radius: 50%;\n",
              "      cursor: pointer;\n",
              "      display: none;\n",
              "      fill: #1967D2;\n",
              "      height: 32px;\n",
              "      padding: 0 0 0 0;\n",
              "      width: 32px;\n",
              "    }\n",
              "\n",
              "    .colab-df-convert:hover {\n",
              "      background-color: #E2EBFA;\n",
              "      box-shadow: 0px 1px 2px rgba(60, 64, 67, 0.3), 0px 1px 3px 1px rgba(60, 64, 67, 0.15);\n",
              "      fill: #174EA6;\n",
              "    }\n",
              "\n",
              "    [theme=dark] .colab-df-convert {\n",
              "      background-color: #3B4455;\n",
              "      fill: #D2E3FC;\n",
              "    }\n",
              "\n",
              "    [theme=dark] .colab-df-convert:hover {\n",
              "      background-color: #434B5C;\n",
              "      box-shadow: 0px 1px 3px 1px rgba(0, 0, 0, 0.15);\n",
              "      filter: drop-shadow(0px 1px 2px rgba(0, 0, 0, 0.3));\n",
              "      fill: #FFFFFF;\n",
              "    }\n",
              "  </style>\n",
              "\n",
              "      <script>\n",
              "        const buttonEl =\n",
              "          document.querySelector('#df-16f23333-587c-4957-8ab9-e77db235aa7d button.colab-df-convert');\n",
              "        buttonEl.style.display =\n",
              "          google.colab.kernel.accessAllowed ? 'block' : 'none';\n",
              "\n",
              "        async function convertToInteractive(key) {\n",
              "          const element = document.querySelector('#df-16f23333-587c-4957-8ab9-e77db235aa7d');\n",
              "          const dataTable =\n",
              "            await google.colab.kernel.invokeFunction('convertToInteractive',\n",
              "                                                     [key], {});\n",
              "          if (!dataTable) return;\n",
              "\n",
              "          const docLinkHtml = 'Like what you see? Visit the ' +\n",
              "            '<a target=\"_blank\" href=https://colab.research.google.com/notebooks/data_table.ipynb>data table notebook</a>'\n",
              "            + ' to learn more about interactive tables.';\n",
              "          element.innerHTML = '';\n",
              "          dataTable['output_type'] = 'display_data';\n",
              "          await google.colab.output.renderOutput(dataTable, element);\n",
              "          const docLink = document.createElement('div');\n",
              "          docLink.innerHTML = docLinkHtml;\n",
              "          element.appendChild(docLink);\n",
              "        }\n",
              "      </script>\n",
              "    </div>\n",
              "  </div>\n",
              "  "
            ]
          },
          "metadata": {},
          "execution_count": 19
        }
      ]
    },
    {
      "cell_type": "code",
      "source": [
        "weather.shape"
      ],
      "metadata": {
        "colab": {
          "base_uri": "https://localhost:8080/"
        },
        "id": "RxlpmkgXRCA7",
        "outputId": "cd192f3f-a277-48a4-ffc0-a6599ae25cbf"
      },
      "execution_count": 20,
      "outputs": [
        {
          "output_type": "execute_result",
          "data": {
            "text/plain": [
              "(1461, 4)"
            ]
          },
          "metadata": {},
          "execution_count": 20
        }
      ]
    },
    {
      "cell_type": "code",
      "source": [
        "weather.dropna(inplace = True)"
      ],
      "metadata": {
        "colab": {
          "base_uri": "https://localhost:8080/"
        },
        "id": "VgTpM47URGnL",
        "outputId": "7b3a17ce-7eb5-4feb-a633-21e6b06a5cd1"
      },
      "execution_count": 21,
      "outputs": [
        {
          "output_type": "stream",
          "name": "stderr",
          "text": [
            "/usr/local/lib/python3.8/dist-packages/pandas/util/_decorators.py:311: SettingWithCopyWarning: \n",
            "A value is trying to be set on a copy of a slice from a DataFrame\n",
            "\n",
            "See the caveats in the documentation: https://pandas.pydata.org/pandas-docs/stable/user_guide/indexing.html#returning-a-view-versus-a-copy\n",
            "  return func(*args, **kwargs)\n"
          ]
        }
      ]
    },
    {
      "cell_type": "markdown",
      "source": [
        "Data Visualization:"
      ],
      "metadata": {
        "id": "JShQTdYeRQ24"
      }
    },
    {
      "cell_type": "code",
      "source": [
        "plt.scatter(weather['weather_cat'], weather['precipitation'])\n",
        "plt.xlabel('weather_cat')\n",
        "plt.ylabel('precipitation')\n",
        "plt.title('precipitation vs weather')\n",
        "plt.show"
      ],
      "metadata": {
        "colab": {
          "base_uri": "https://localhost:8080/",
          "height": 313
        },
        "id": "QVy5QuZbRLSi",
        "outputId": "3ff7d867-8860-406c-a766-15b89932c5e3"
      },
      "execution_count": 22,
      "outputs": [
        {
          "output_type": "execute_result",
          "data": {
            "text/plain": [
              "<function matplotlib.pyplot.show(*args, **kw)>"
            ]
          },
          "metadata": {},
          "execution_count": 22
        },
        {
          "output_type": "display_data",
          "data": {
            "text/plain": [
              "<Figure size 432x288 with 1 Axes>"
            ],
            "image/png": "[encoded data removed]"
          },
          "metadata": {
            "needs_background": "light"
          }
        }
      ]
    },
    {
      "cell_type": "code",
      "source": [
        "plt.scatter(weather['weather_cat'], weather['wind'])\n",
        "plt.xlabel('weather_cat')\n",
        "plt.ylabel('wind')\n",
        "plt.title('wind vs weather')\n",
        "plt.show"
      ],
      "metadata": {
        "colab": {
          "base_uri": "https://localhost:8080/",
          "height": 313
        },
        "id": "W8mTxMx1R0EB",
        "outputId": "bb22308b-4bc7-47da-9297-49e271b87c29"
      },
      "execution_count": 23,
      "outputs": [
        {
          "output_type": "execute_result",
          "data": {
            "text/plain": [
              "<function matplotlib.pyplot.show(*args, **kw)>"
            ]
          },
          "metadata": {},
          "execution_count": 23
        },
        {
          "output_type": "display_data",
          "data": {
            "text/plain": [
              "<Figure size 432x288 with 1 Axes>"
            ],
            "image/png": "[encoded data removed]"
          },
          "metadata": {
            "needs_background": "light"
          }
        }
      ]
    },
    {
      "cell_type": "code",
      "source": [
        "plt.scatter(weather['weather_cat'], weather['temp_avg'])\n",
        "plt.xlabel('weather_cat')\n",
        "plt.ylabel('temp_ag')\n",
        "plt.title('temp vs weather')\n",
        "plt.show"
      ],
      "metadata": {
        "colab": {
          "base_uri": "https://localhost:8080/",
          "height": 313
        },
        "id": "CKJlyV8MSbLr",
        "outputId": "b718bf32-05f7-43cf-b056-cd3065bb2ff7"
      },
      "execution_count": 24,
      "outputs": [
        {
          "output_type": "execute_result",
          "data": {
            "text/plain": [
              "<function matplotlib.pyplot.show(*args, **kw)>"
            ]
          },
          "metadata": {},
          "execution_count": 24
        },
        {
          "output_type": "display_data",
          "data": {
            "text/plain": [
              "<Figure size 432x288 with 1 Axes>"
            ],
            "image/png": "[encoded data removed]"
          },
          "metadata": {
            "needs_background": "light"
          }
        }
      ]
    },
    {
      "cell_type": "markdown",
      "source": [
        "Input Variables and Output Variables:"
      ],
      "metadata": {
        "id": "msNbPYozTL-J"
      }
    },
    {
      "cell_type": "code",
      "source": [
        "X = weather.iloc[:, [0,1,3]]\n",
        "Y = weather['weather_cat']"
      ],
      "metadata": {
        "id": "itdiZWGnTLZY"
      },
      "execution_count": 25,
      "outputs": []
    },
    {
      "cell_type": "markdown",
      "source": [
        "Splitting of Dataset:"
      ],
      "metadata": {
        "id": "bgxwO4hNSsAb"
      }
    },
    {
      "cell_type": "code",
      "source": [
        "X_train, X_test, Y_train, Y_test = train_test_split(X, Y, test_size = 0.3)"
      ],
      "metadata": {
        "id": "dA6anw5USnGe"
      },
      "execution_count": 26,
      "outputs": []
    },
    {
      "cell_type": "code",
      "source": [
        "X_train.shape"
      ],
      "metadata": {
        "colab": {
          "base_uri": "https://localhost:8080/"
        },
        "id": "-aPP_6e2TzlW",
        "outputId": "07680fde-07ef-4c57-b591-5f17a452eb7c"
      },
      "execution_count": 27,
      "outputs": [
        {
          "output_type": "execute_result",
          "data": {
            "text/plain": [
              "(1022, 3)"
            ]
          },
          "metadata": {},
          "execution_count": 27
        }
      ]
    },
    {
      "cell_type": "markdown",
      "source": [
        "Logistic Regression:"
      ],
      "metadata": {
        "id": "s4_MBsViT9B5"
      }
    },
    {
      "cell_type": "code",
      "source": [
        "sc_x = StandardScaler()\n",
        "X_train = sc_x.fit_transform(X_train)\n",
        "X_test = sc_x.transform(X_test)\n",
        "\n",
        "print (X_train[0:10, :])\n"
      ],
      "metadata": {
        "colab": {
          "base_uri": "https://localhost:8080/"
        },
        "id": "NxF1aREQIK5B",
        "outputId": "e0b9d744-470d-405f-add0-872b74fb22e0"
      },
      "execution_count": 35,
      "outputs": [
        {
          "output_type": "stream",
          "name": "stdout",
          "text": [
            "[[-0.09498055 -0.31121137 -1.19369117]\n",
            " [ 1.63057599  1.80026031 -1.27698711]\n",
            " [-0.44311915 -0.52235853  0.47222768]\n",
            " [-0.44311915 -0.38159376  1.1719136 ]\n",
            " [-0.44311915  1.2372012  -0.58563079]\n",
            " [-0.44311915 -0.38159376  1.77164438]\n",
            " [-0.44311915  0.67414208 -2.20157207]\n",
            " [ 1.17648216  0.5333773  -0.49400525]\n",
            " [-0.09498055 -0.24082898  1.3135167 ]\n",
            " [-0.44311915 -0.94465287  0.89703699]]\n"
          ]
        }
      ]
    },
    {
      "cell_type": "code",
      "source": [
        "classifier = LogisticRegression(random_state = 0)\n",
        "classifier.fit(X_train, Y_train)"
      ],
      "metadata": {
        "colab": {
          "base_uri": "https://localhost:8080/"
        },
        "id": "5q9Ta6arITBr",
        "outputId": "f6846cb8-407d-4282-d14b-7ddce81faf69"
      },
      "execution_count": 36,
      "outputs": [
        {
          "output_type": "execute_result",
          "data": {
            "text/plain": [
              "LogisticRegression(random_state=0)"
            ]
          },
          "metadata": {},
          "execution_count": 36
        }
      ]
    },
    {
      "cell_type": "code",
      "source": [
        "Y_pred = classifier.predict(X_test)"
      ],
      "metadata": {
        "id": "7Wo9aP9jIdQD"
      },
      "execution_count": 37,
      "outputs": []
    },
    {
      "cell_type": "code",
      "source": [
        "cm = confusion_matrix(Y_test, Y_pred)\n",
        "\n",
        "print (\"Confusion Matrix : \\n\", cm)"
      ],
      "metadata": {
        "colab": {
          "base_uri": "https://localhost:8080/"
        },
        "id": "CrCvk44bIh-7",
        "outputId": "2d487e94-cb8b-4160-b457-6ee3b459573c"
      },
      "execution_count": 38,
      "outputs": [
        {
          "output_type": "stream",
          "name": "stdout",
          "text": [
            "Confusion Matrix : \n",
            " [[  0   0   0   0  13]\n",
            " [  0   0   0   0  27]\n",
            " [  0   0 159   0  39]\n",
            " [  0   0   8   0   0]\n",
            " [  0   0   0   1 192]]\n"
          ]
        }
      ]
    },
    {
      "cell_type": "code",
      "source": [
        "print (\"Accuracy : \", accuracy_score(Y_test, Y_pred))"
      ],
      "metadata": {
        "colab": {
          "base_uri": "https://localhost:8080/"
        },
        "id": "PUsSKc1fInv-",
        "outputId": "302262c0-2dd1-4464-f5d7-056ab533ed89"
      },
      "execution_count": 39,
      "outputs": [
        {
          "output_type": "stream",
          "name": "stdout",
          "text": [
            "Accuracy :  0.7995444191343963\n"
          ]
        }
      ]
    },
    {
      "cell_type": "markdown",
      "source": [
        "Decision Trees:"
      ],
      "metadata": {
        "id": "snmjz94PJzM6"
      }
    },
    {
      "cell_type": "code",
      "source": [
        "features = [['precipitation', 'wind', 'temp_avg']]"
      ],
      "metadata": {
        "id": "GyXFy7nSL0yO"
      },
      "execution_count": 45,
      "outputs": []
    },
    {
      "cell_type": "code",
      "source": [
        "dtree = DecisionTreeClassifier()\n",
        "dtree = dtree.fit(X,Y)"
      ],
      "metadata": {
        "id": "wQKsOKgxKvGl"
      },
      "execution_count": 47,
      "outputs": []
    },
    {
      "cell_type": "code",
      "source": [
        "tree.plot_tree(dtree)"
      ],
      "metadata": {
        "colab": {
          "base_uri": "https://localhost:8080/",
          "height": 1000
        },
        "id": "7yby2uxnK2yD",
        "outputId": "00373162-5881-4549-e0b4-ad44938e8b22"
      },
      "execution_count": 49,
      "outputs": [
        {
          "output_type": "execute_result",
          "data": {
            "text/plain": [
              "[Text(0.6726499006465958, 0.9791666666666666, 'X[0] <= 0.15\\ngini = 0.609\\nsamples = 1461\\nvalue = [53, 101, 641, 26, 640]'),\n",
              " Text(0.3896670063637293, 0.9375, 'X[2] <= 13.075\\ngini = 0.395\\nsamples = 838\\nvalue = [53, 101, 44, 0, 640]'),\n",
              " Text(0.16422382948272338, 0.8958333333333334, 'X[1] <= 2.05\\ngini = 0.514\\nsamples = 339\\nvalue = [28, 57, 28, 0, 226]'),\n",
              " Text(0.05561234921283991, 0.8541666666666666, 'X[2] <= 1.125\\ngini = 0.597\\nsamples = 109\\nvalue = [17, 25, 5, 0, 62]'),\n",
              " Text(0.013085258638315273, 0.8125, 'X[2] <= -0.1\\ngini = 0.541\\nsamples = 14\\nvalue = [8, 1, 0, 0, 5]'),\n",
              " Text(0.006542629319157636, 0.7708333333333334, 'X[1] <= 1.1\\ngini = 0.375\\nsamples = 4\\nvalue = [0, 1, 0, 0, 3]'),\n",
              " Text(0.003271314659578818, 0.7291666666666666, 'gini = 0.0\\nsamples = 1\\nvalue = [0, 1, 0, 0, 0]'),\n",
              " Text(0.009813943978736455, 0.7291666666666666, 'gini = 0.0\\nsamples = 3\\nvalue = [0, 0, 0, 0, 3]'),\n",
              " Text(0.01962788795747291, 0.7708333333333334, 'X[1] <= 1.55\\ngini = 0.32\\nsamples = 10\\nvalue = [8, 0, 0, 0, 2]'),\n",
              " Text(0.01635657329789409, 0.7291666666666666, 'X[1] <= 1.2\\ngini = 0.444\\nsamples = 6\\nvalue = [4, 0, 0, 0, 2]'),\n",
              " Text(0.013085258638315273, 0.6875, 'gini = 0.0\\nsamples = 3\\nvalue = [3, 0, 0, 0, 0]'),\n",
              " Text(0.01962788795747291, 0.6875, 'X[2] <= 0.825\\ngini = 0.444\\nsamples = 3\\nvalue = [1, 0, 0, 0, 2]'),\n",
              " Text(0.01635657329789409, 0.6458333333333334, 'gini = 0.0\\nsamples = 1\\nvalue = [0, 0, 0, 0, 1]'),\n",
              " Text(0.022899202617051726, 0.6458333333333334, 'gini = 0.5\\nsamples = 2\\nvalue = [1, 0, 0, 0, 1]'),\n",
              " Text(0.022899202617051726, 0.7291666666666666, 'gini = 0.0\\nsamples = 4\\nvalue = [4, 0, 0, 0, 0]'),\n",
              " Text(0.09813943978736454, 0.8125, 'X[2] <= 6.675\\ngini = 0.564\\nsamples = 95\\nvalue = [9, 24, 5, 0, 57]'),\n",
              " Text(0.0641995501942343, 0.7708333333333334, 'X[1] <= 1.75\\ngini = 0.551\\nsamples = 44\\nvalue = [5, 6, 5, 0, 28]'),\n",
              " Text(0.04825189122878757, 0.7291666666666666, 'X[2] <= 5.7\\ngini = 0.471\\nsamples = 30\\nvalue = [1, 5, 3, 0, 21]'),\n",
              " Text(0.03271314659578818, 0.6875, 'X[2] <= 4.725\\ngini = 0.395\\nsamples = 20\\nvalue = [1, 4, 0, 0, 15]'),\n",
              " Text(0.029441831936209365, 0.6458333333333334, 'X[2] <= 3.225\\ngini = 0.48\\nsamples = 15\\nvalue = [1, 4, 0, 0, 10]'),\n",
              " Text(0.0179922306276835, 0.6041666666666666, 'X[1] <= 1.3\\ngini = 0.278\\nsamples = 6\\nvalue = [1, 0, 0, 0, 5]'),\n",
              " Text(0.014720915968104683, 0.5625, 'gini = 0.0\\nsamples = 3\\nvalue = [0, 0, 0, 0, 3]'),\n",
              " Text(0.02126354528726232, 0.5625, 'X[1] <= 1.45\\ngini = 0.444\\nsamples = 3\\nvalue = [1, 0, 0, 0, 2]'),\n",
              " Text(0.0179922306276835, 0.5208333333333334, 'gini = 0.0\\nsamples = 1\\nvalue = [1, 0, 0, 0, 0]'),\n",
              " Text(0.024534859946841136, 0.5208333333333334, 'gini = 0.0\\nsamples = 2\\nvalue = [0, 0, 0, 0, 2]'),\n",
              " Text(0.04089143324473523, 0.6041666666666666, 'X[1] <= 1.15\\ngini = 0.494\\nsamples = 9\\nvalue = [0, 4, 0, 0, 5]'),\n",
              " Text(0.03434880392557759, 0.5625, 'X[2] <= 4.575\\ngini = 0.32\\nsamples = 5\\nvalue = [0, 1, 0, 0, 4]'),\n",
              " Text(0.031077489265998775, 0.5208333333333334, 'gini = 0.0\\nsamples = 4\\nvalue = [0, 0, 0, 0, 4]'),\n",
              " Text(0.03762011858515641, 0.5208333333333334, 'gini = 0.0\\nsamples = 1\\nvalue = [0, 1, 0, 0, 0]'),\n",
              " Text(0.04743406256389286, 0.5625, 'X[2] <= 4.05\\ngini = 0.375\\nsamples = 4\\nvalue = [0, 3, 0, 0, 1]'),\n",
              " Text(0.04416274790431405, 0.5208333333333334, 'gini = 0.0\\nsamples = 3\\nvalue = [0, 3, 0, 0, 0]'),\n",
              " Text(0.05070537722347168, 0.5208333333333334, 'gini = 0.0\\nsamples = 1\\nvalue = [0, 0, 0, 0, 1]'),\n",
              " Text(0.035984461255367, 0.6458333333333334, 'gini = 0.0\\nsamples = 5\\nvalue = [0, 0, 0, 0, 5]'),\n",
              " Text(0.06379063586178696, 0.6875, 'X[2] <= 6.525\\ngini = 0.54\\nsamples = 10\\nvalue = [0, 1, 3, 0, 6]'),\n",
              " Text(0.06051932120220814, 0.6458333333333334, 'X[1] <= 1.05\\ngini = 0.612\\nsamples = 7\\nvalue = [0, 1, 3, 0, 3]'),\n",
              " Text(0.05724800654262932, 0.6041666666666666, 'gini = 0.0\\nsamples = 1\\nvalue = [0, 1, 0, 0, 0]'),\n",
              " Text(0.06379063586178696, 0.6041666666666666, 'X[2] <= 6.375\\ngini = 0.5\\nsamples = 6\\nvalue = [0, 0, 3, 0, 3]'),\n",
              " Text(0.06051932120220814, 0.5625, 'X[1] <= 1.6\\ngini = 0.48\\nsamples = 5\\nvalue = [0, 0, 2, 0, 3]'),\n",
              " Text(0.05724800654262932, 0.5208333333333334, 'X[1] <= 1.4\\ngini = 0.375\\nsamples = 4\\nvalue = [0, 0, 1, 0, 3]'),\n",
              " Text(0.0539766918830505, 0.4791666666666667, 'gini = 0.0\\nsamples = 1\\nvalue = [0, 0, 0, 0, 1]'),\n",
              " Text(0.06051932120220814, 0.4791666666666667, 'gini = 0.444\\nsamples = 3\\nvalue = [0, 0, 1, 0, 2]'),\n",
              " Text(0.06379063586178696, 0.5208333333333334, 'gini = 0.0\\nsamples = 1\\nvalue = [0, 0, 1, 0, 0]'),\n",
              " Text(0.06706195052136578, 0.5625, 'gini = 0.0\\nsamples = 1\\nvalue = [0, 0, 1, 0, 0]'),\n",
              " Text(0.06706195052136578, 0.6458333333333334, 'gini = 0.0\\nsamples = 3\\nvalue = [0, 0, 0, 0, 3]'),\n",
              " Text(0.08014720915968104, 0.7291666666666666, 'X[2] <= 5.975\\ngini = 0.643\\nsamples = 14\\nvalue = [4, 1, 2, 0, 7]'),\n",
              " Text(0.07687589450010222, 0.6875, 'X[1] <= 1.85\\ngini = 0.7\\nsamples = 10\\nvalue = [4, 1, 2, 0, 3]'),\n",
              " Text(0.0736045798405234, 0.6458333333333334, 'gini = 0.0\\nsamples = 2\\nvalue = [2, 0, 0, 0, 0]'),\n",
              " Text(0.08014720915968104, 0.6458333333333334, 'X[2] <= 4.35\\ngini = 0.719\\nsamples = 8\\nvalue = [2, 1, 2, 0, 3]'),\n",
              " Text(0.07687589450010222, 0.6041666666666666, 'gini = 0.0\\nsamples = 2\\nvalue = [0, 0, 0, 0, 2]'),\n",
              " Text(0.08341852381925986, 0.6041666666666666, 'X[1] <= 1.95\\ngini = 0.722\\nsamples = 6\\nvalue = [2, 1, 2, 0, 1]'),\n",
              " Text(0.07687589450010222, 0.5625, 'X[2] <= 5.55\\ngini = 0.5\\nsamples = 2\\nvalue = [0, 1, 1, 0, 0]'),\n",
              " Text(0.0736045798405234, 0.5208333333333334, 'gini = 0.0\\nsamples = 1\\nvalue = [0, 1, 0, 0, 0]'),\n",
              " Text(0.08014720915968104, 0.5208333333333334, 'gini = 0.0\\nsamples = 1\\nvalue = [0, 0, 1, 0, 0]'),\n",
              " Text(0.0899611531384175, 0.5625, 'X[2] <= 4.725\\ngini = 0.625\\nsamples = 4\\nvalue = [2, 0, 1, 0, 1]'),\n",
              " Text(0.08668983847883868, 0.5208333333333334, 'gini = 0.0\\nsamples = 1\\nvalue = [1, 0, 0, 0, 0]'),\n",
              " Text(0.09323246779799632, 0.5208333333333334, 'X[2] <= 5.15\\ngini = 0.667\\nsamples = 3\\nvalue = [1, 0, 1, 0, 1]'),\n",
              " Text(0.0899611531384175, 0.4791666666666667, 'gini = 0.5\\nsamples = 2\\nvalue = [0, 0, 1, 0, 1]'),\n",
              " Text(0.09650378245757514, 0.4791666666666667, 'gini = 0.0\\nsamples = 1\\nvalue = [1, 0, 0, 0, 0]'),\n",
              " Text(0.08341852381925986, 0.6875, 'gini = 0.0\\nsamples = 4\\nvalue = [0, 0, 0, 0, 4]'),\n",
              " Text(0.1320793293804948, 0.7708333333333334, 'X[1] <= 0.75\\ngini = 0.546\\nsamples = 51\\nvalue = [4, 18, 0, 0, 29]'),\n",
              " Text(0.12880801472091596, 0.7291666666666666, 'gini = 0.0\\nsamples = 4\\nvalue = [0, 0, 0, 0, 4]'),\n",
              " Text(0.1353506440400736, 0.7291666666666666, 'X[2] <= 9.725\\ngini = 0.563\\nsamples = 47\\nvalue = [4, 18, 0, 0, 25]'),\n",
              " Text(0.11286035575546922, 0.6875, 'X[1] <= 1.25\\ngini = 0.541\\nsamples = 22\\nvalue = [1, 11, 0, 0, 10]'),\n",
              " Text(0.10304641177673278, 0.6458333333333334, 'X[2] <= 7.925\\ngini = 0.32\\nsamples = 5\\nvalue = [0, 4, 0, 0, 1]'),\n",
              " Text(0.09977509711715396, 0.6041666666666666, 'X[1] <= 1.05\\ngini = 0.5\\nsamples = 2\\nvalue = [0, 1, 0, 0, 1]'),\n",
              " Text(0.09650378245757514, 0.5625, 'gini = 0.0\\nsamples = 1\\nvalue = [0, 0, 0, 0, 1]'),\n",
              " Text(0.10304641177673278, 0.5625, 'gini = 0.0\\nsamples = 1\\nvalue = [0, 1, 0, 0, 0]'),\n",
              " Text(0.1063177264363116, 0.6041666666666666, 'gini = 0.0\\nsamples = 3\\nvalue = [0, 3, 0, 0, 0]'),\n",
              " Text(0.12267429973420568, 0.6458333333333334, 'X[1] <= 1.55\\ngini = 0.547\\nsamples = 17\\nvalue = [1, 7, 0, 0, 9]'),\n",
              " Text(0.11286035575546922, 0.6041666666666666, 'X[1] <= 1.35\\ngini = 0.346\\nsamples = 9\\nvalue = [0, 2, 0, 0, 7]'),\n",
              " Text(0.1095890410958904, 0.5625, 'X[2] <= 7.5\\ngini = 0.5\\nsamples = 4\\nvalue = [0, 2, 0, 0, 2]'),\n",
              " Text(0.1063177264363116, 0.5208333333333334, 'gini = 0.0\\nsamples = 1\\nvalue = [0, 1, 0, 0, 0]'),\n",
              " Text(0.11286035575546922, 0.5208333333333334, 'X[2] <= 8.6\\ngini = 0.444\\nsamples = 3\\nvalue = [0, 1, 0, 0, 2]'),\n",
              " Text(0.1095890410958904, 0.4791666666666667, 'gini = 0.0\\nsamples = 1\\nvalue = [0, 0, 0, 0, 1]'),\n",
              " Text(0.11613167041504804, 0.4791666666666667, 'gini = 0.5\\nsamples = 2\\nvalue = [0, 1, 0, 0, 1]'),\n",
              " Text(0.11613167041504804, 0.5625, 'gini = 0.0\\nsamples = 5\\nvalue = [0, 0, 0, 0, 5]'),\n",
              " Text(0.13248824371294213, 0.6041666666666666, 'X[2] <= 8.475\\ngini = 0.531\\nsamples = 8\\nvalue = [1, 5, 0, 0, 2]'),\n",
              " Text(0.12921692905336332, 0.5625, 'X[1] <= 1.65\\ngini = 0.64\\nsamples = 5\\nvalue = [1, 2, 0, 0, 2]'),\n",
              " Text(0.1259456143937845, 0.5208333333333334, 'X[2] <= 6.975\\ngini = 0.444\\nsamples = 3\\nvalue = [1, 2, 0, 0, 0]'),\n",
              " Text(0.12267429973420568, 0.4791666666666667, 'gini = 0.0\\nsamples = 1\\nvalue = [0, 1, 0, 0, 0]'),\n",
              " Text(0.12921692905336332, 0.4791666666666667, 'X[2] <= 7.5\\ngini = 0.5\\nsamples = 2\\nvalue = [1, 1, 0, 0, 0]'),\n",
              " Text(0.1259456143937845, 0.4375, 'gini = 0.0\\nsamples = 1\\nvalue = [1, 0, 0, 0, 0]'),\n",
              " Text(0.13248824371294213, 0.4375, 'gini = 0.0\\nsamples = 1\\nvalue = [0, 1, 0, 0, 0]'),\n",
              " Text(0.13248824371294213, 0.5208333333333334, 'gini = 0.0\\nsamples = 2\\nvalue = [0, 0, 0, 0, 2]'),\n",
              " Text(0.13575955837252096, 0.5625, 'gini = 0.0\\nsamples = 3\\nvalue = [0, 3, 0, 0, 0]'),\n",
              " Text(0.15784093232467797, 0.6875, 'X[2] <= 10.425\\ngini = 0.547\\nsamples = 25\\nvalue = [3, 7, 0, 0, 15]'),\n",
              " Text(0.14884481701083624, 0.6458333333333334, 'X[1] <= 1.5\\ngini = 0.219\\nsamples = 8\\nvalue = [1, 0, 0, 0, 7]'),\n",
              " Text(0.1455735023512574, 0.6041666666666666, 'X[1] <= 1.35\\ngini = 0.375\\nsamples = 4\\nvalue = [1, 0, 0, 0, 3]'),\n",
              " Text(0.1423021876916786, 0.5625, 'gini = 0.0\\nsamples = 3\\nvalue = [0, 0, 0, 0, 3]'),\n",
              " Text(0.14884481701083624, 0.5625, 'gini = 0.0\\nsamples = 1\\nvalue = [1, 0, 0, 0, 0]'),\n",
              " Text(0.15211613167041504, 0.6041666666666666, 'gini = 0.0\\nsamples = 4\\nvalue = [0, 0, 0, 0, 4]'),\n",
              " Text(0.16683704763851973, 0.6458333333333334, 'X[1] <= 1.85\\ngini = 0.595\\nsamples = 17\\nvalue = [2, 7, 0, 0, 8]'),\n",
              " Text(0.16356573297894092, 0.6041666666666666, 'X[2] <= 11.275\\ngini = 0.604\\nsamples = 15\\nvalue = [2, 7, 0, 0, 6]'),\n",
              " Text(0.15538744632999388, 0.5625, 'X[1] <= 1.5\\ngini = 0.375\\nsamples = 4\\nvalue = [1, 3, 0, 0, 0]'),\n",
              " Text(0.15211613167041504, 0.5208333333333334, 'gini = 0.0\\nsamples = 1\\nvalue = [1, 0, 0, 0, 0]'),\n",
              " Text(0.15865876098957268, 0.5208333333333334, 'gini = 0.0\\nsamples = 3\\nvalue = [0, 3, 0, 0, 0]'),\n",
              " Text(0.17174401962788796, 0.5625, 'X[2] <= 12.225\\ngini = 0.562\\nsamples = 11\\nvalue = [1, 4, 0, 0, 6]'),\n",
              " Text(0.16520139030873032, 0.5208333333333334, 'X[2] <= 12.075\\ngini = 0.5\\nsamples = 8\\nvalue = [0, 4, 0, 0, 4]'),\n",
              " Text(0.1619300756491515, 0.4791666666666667, 'X[2] <= 11.525\\ngini = 0.444\\nsamples = 6\\nvalue = [0, 2, 0, 0, 4]'),\n",
              " Text(0.15865876098957268, 0.4375, 'gini = 0.0\\nsamples = 1\\nvalue = [0, 0, 0, 0, 1]'),\n",
              " Text(0.16520139030873032, 0.4375, 'X[1] <= 1.4\\ngini = 0.48\\nsamples = 5\\nvalue = [0, 2, 0, 0, 3]'),\n",
              " Text(0.1619300756491515, 0.3958333333333333, 'gini = 0.0\\nsamples = 1\\nvalue = [0, 0, 0, 0, 1]'),\n",
              " Text(0.16847270496830913, 0.3958333333333333, 'X[1] <= 1.75\\ngini = 0.5\\nsamples = 4\\nvalue = [0, 2, 0, 0, 2]'),\n",
              " Text(0.16520139030873032, 0.3541666666666667, 'X[2] <= 11.8\\ngini = 0.444\\nsamples = 3\\nvalue = [0, 2, 0, 0, 1]'),\n",
              " Text(0.1619300756491515, 0.3125, 'gini = 0.5\\nsamples = 2\\nvalue = [0, 1, 0, 0, 1]'),\n",
              " Text(0.16847270496830913, 0.3125, 'gini = 0.0\\nsamples = 1\\nvalue = [0, 1, 0, 0, 0]'),\n",
              " Text(0.17174401962788796, 0.3541666666666667, 'gini = 0.0\\nsamples = 1\\nvalue = [0, 0, 0, 0, 1]'),\n",
              " Text(0.16847270496830913, 0.4791666666666667, 'gini = 0.0\\nsamples = 2\\nvalue = [0, 2, 0, 0, 0]'),\n",
              " Text(0.1782866489470456, 0.5208333333333334, 'X[2] <= 12.375\\ngini = 0.444\\nsamples = 3\\nvalue = [1, 0, 0, 0, 2]'),\n",
              " Text(0.17501533428746677, 0.4791666666666667, 'gini = 0.0\\nsamples = 1\\nvalue = [0, 0, 0, 0, 1]'),\n",
              " Text(0.1815579636066244, 0.4791666666666667, 'X[1] <= 1.65\\ngini = 0.5\\nsamples = 2\\nvalue = [1, 0, 0, 0, 1]'),\n",
              " Text(0.1782866489470456, 0.4375, 'gini = 0.0\\nsamples = 1\\nvalue = [1, 0, 0, 0, 0]'),\n",
              " Text(0.18482927826620324, 0.4375, 'gini = 0.0\\nsamples = 1\\nvalue = [0, 0, 0, 0, 1]'),\n",
              " Text(0.17010836229809856, 0.6041666666666666, 'gini = 0.0\\nsamples = 2\\nvalue = [0, 0, 0, 0, 2]'),\n",
              " Text(0.27283530975260684, 0.8541666666666666, 'X[2] <= 3.2\\ngini = 0.46\\nsamples = 230\\nvalue = [11, 32, 23, 0, 164]'),\n",
              " Text(0.17337967695767736, 0.8125, 'X[1] <= 2.15\\ngini = 0.145\\nsamples = 26\\nvalue = [1, 1, 0, 0, 24]'),\n",
              " Text(0.16683704763851973, 0.7708333333333334, 'X[2] <= 1.925\\ngini = 0.5\\nsamples = 2\\nvalue = [1, 0, 0, 0, 1]'),\n",
              " Text(0.16356573297894092, 0.7291666666666666, 'gini = 0.0\\nsamples = 1\\nvalue = [1, 0, 0, 0, 0]'),\n",
              " Text(0.17010836229809856, 0.7291666666666666, 'gini = 0.0\\nsamples = 1\\nvalue = [0, 0, 0, 0, 1]'),\n",
              " Text(0.179922306276835, 0.7708333333333334, 'X[1] <= 5.65\\ngini = 0.08\\nsamples = 24\\nvalue = [0, 1, 0, 0, 23]'),\n",
              " Text(0.1766509916172562, 0.7291666666666666, 'gini = 0.0\\nsamples = 22\\nvalue = [0, 0, 0, 0, 22]'),\n",
              " Text(0.1831936209364138, 0.7291666666666666, 'X[2] <= -0.9\\ngini = 0.5\\nsamples = 2\\nvalue = [0, 1, 0, 0, 1]'),\n",
              " Text(0.179922306276835, 0.6875, 'gini = 0.0\\nsamples = 1\\nvalue = [0, 0, 0, 0, 1]'),\n",
              " Text(0.18646493559599264, 0.6875, 'gini = 0.0\\nsamples = 1\\nvalue = [0, 1, 0, 0, 0]'),\n",
              " Text(0.3722909425475363, 0.8125, 'X[1] <= 3.55\\ngini = 0.491\\nsamples = 204\\nvalue = [10, 31, 23, 0, 140]'),\n",
              " Text(0.2851666325904723, 0.7708333333333334, 'X[1] <= 2.55\\ngini = 0.54\\nsamples = 115\\nvalue = [5, 23, 14, 0, 73]'),\n",
              " Text(0.208955223880597, 0.7291666666666666, 'X[2] <= 3.925\\ngini = 0.402\\nsamples = 50\\nvalue = [3, 5, 4, 0, 38]'),\n",
              " Text(0.19300756491515028, 0.6875, 'X[2] <= 3.625\\ngini = 0.5\\nsamples = 2\\nvalue = [0, 0, 1, 0, 1]'),\n",
              " Text(0.18973625025557145, 0.6458333333333334, 'gini = 0.0\\nsamples = 1\\nvalue = [0, 0, 0, 0, 1]'),\n",
              " Text(0.1962788795747291, 0.6458333333333334, 'gini = 0.0\\nsamples = 1\\nvalue = [0, 0, 1, 0, 0]'),\n",
              " Text(0.22490288284604376, 0.6875, 'X[1] <= 2.35\\ngini = 0.387\\nsamples = 48\\nvalue = [3, 5, 3, 0, 37]'),\n",
              " Text(0.20282150889388673, 0.6458333333333334, 'X[2] <= 5.7\\ngini = 0.269\\nsamples = 26\\nvalue = [0, 3, 1, 0, 22]'),\n",
              " Text(0.19464322224493968, 0.6041666666666666, 'X[1] <= 2.25\\ngini = 0.5\\nsamples = 6\\nvalue = [0, 1, 1, 0, 4]'),\n",
              " Text(0.18810059292578205, 0.5625, 'X[2] <= 5.15\\ngini = 0.375\\nsamples = 4\\nvalue = [0, 1, 0, 0, 3]'),\n",
              " Text(0.18482927826620324, 0.5208333333333334, 'gini = 0.0\\nsamples = 2\\nvalue = [0, 0, 0, 0, 2]'),\n",
              " Text(0.19137190758536088, 0.5208333333333334, 'X[1] <= 2.15\\ngini = 0.5\\nsamples = 2\\nvalue = [0, 1, 0, 0, 1]'),\n",
              " Text(0.18810059292578205, 0.4791666666666667, 'gini = 0.0\\nsamples = 1\\nvalue = [0, 0, 0, 0, 1]'),\n",
              " Text(0.19464322224493968, 0.4791666666666667, 'gini = 0.0\\nsamples = 1\\nvalue = [0, 1, 0, 0, 0]'),\n",
              " Text(0.20118585156409732, 0.5625, 'X[2] <= 4.6\\ngini = 0.5\\nsamples = 2\\nvalue = [0, 0, 1, 0, 1]'),\n",
              " Text(0.1979145369045185, 0.5208333333333334, 'gini = 0.0\\nsamples = 1\\nvalue = [0, 0, 0, 0, 1]'),\n",
              " Text(0.20445716622367613, 0.5208333333333334, 'gini = 0.0\\nsamples = 1\\nvalue = [0, 0, 1, 0, 0]'),\n",
              " Text(0.21099979554283377, 0.6041666666666666, 'X[2] <= 9.275\\ngini = 0.18\\nsamples = 20\\nvalue = [0, 2, 0, 0, 18]'),\n",
              " Text(0.20772848088325496, 0.5625, 'gini = 0.0\\nsamples = 8\\nvalue = [0, 0, 0, 0, 8]'),\n",
              " Text(0.2142711102024126, 0.5625, 'X[2] <= 9.7\\ngini = 0.278\\nsamples = 12\\nvalue = [0, 2, 0, 0, 10]'),\n",
              " Text(0.21099979554283377, 0.5208333333333334, 'gini = 0.0\\nsamples = 1\\nvalue = [0, 1, 0, 0, 0]'),\n",
              " Text(0.2175424248619914, 0.5208333333333334, 'X[2] <= 11.25\\ngini = 0.165\\nsamples = 11\\nvalue = [0, 1, 0, 0, 10]'),\n",
              " Text(0.2142711102024126, 0.4791666666666667, 'X[2] <= 10.975\\ngini = 0.32\\nsamples = 5\\nvalue = [0, 1, 0, 0, 4]'),\n",
              " Text(0.21099979554283377, 0.4375, 'gini = 0.0\\nsamples = 4\\nvalue = [0, 0, 0, 0, 4]'),\n",
              " Text(0.2175424248619914, 0.4375, 'gini = 0.0\\nsamples = 1\\nvalue = [0, 1, 0, 0, 0]'),\n",
              " Text(0.22081373952157024, 0.4791666666666667, 'gini = 0.0\\nsamples = 6\\nvalue = [0, 0, 0, 0, 6]'),\n",
              " Text(0.24698425679820077, 0.6458333333333334, 'X[2] <= 11.675\\ngini = 0.5\\nsamples = 22\\nvalue = [3, 2, 2, 0, 15]'),\n",
              " Text(0.24044162747904313, 0.6041666666666666, 'X[2] <= 9.175\\ngini = 0.377\\nsamples = 18\\nvalue = [2, 1, 1, 0, 14]'),\n",
              " Text(0.23717031281946432, 0.5625, 'X[1] <= 2.45\\ngini = 0.545\\nsamples = 11\\nvalue = [2, 1, 1, 0, 7]'),\n",
              " Text(0.2338989981598855, 0.5208333333333334, 'X[2] <= 8.175\\ngini = 0.694\\nsamples = 7\\nvalue = [2, 1, 1, 0, 3]'),\n",
              " Text(0.22735636884072788, 0.4791666666666667, 'X[2] <= 6.925\\ngini = 0.5\\nsamples = 2\\nvalue = [1, 0, 1, 0, 0]'),\n",
              " Text(0.22408505418114905, 0.4375, 'gini = 0.0\\nsamples = 1\\nvalue = [1, 0, 0, 0, 0]'),\n",
              " Text(0.23062768350030668, 0.4375, 'gini = 0.0\\nsamples = 1\\nvalue = [0, 0, 1, 0, 0]'),\n",
              " Text(0.24044162747904313, 0.4791666666666667, 'X[2] <= 8.875\\ngini = 0.56\\nsamples = 5\\nvalue = [1, 1, 0, 0, 3]'),\n",
              " Text(0.23717031281946432, 0.4375, 'gini = 0.0\\nsamples = 2\\nvalue = [0, 0, 0, 0, 2]'),\n",
              " Text(0.24371294213862196, 0.4375, 'gini = 0.667\\nsamples = 3\\nvalue = [1, 1, 0, 0, 1]'),\n",
              " Text(0.24044162747904313, 0.5208333333333334, 'gini = 0.0\\nsamples = 4\\nvalue = [0, 0, 0, 0, 4]'),\n",
              " Text(0.24371294213862196, 0.5625, 'gini = 0.0\\nsamples = 7\\nvalue = [0, 0, 0, 0, 7]'),\n",
              " Text(0.2535268861173584, 0.6041666666666666, 'X[1] <= 2.45\\ngini = 0.75\\nsamples = 4\\nvalue = [1, 1, 1, 0, 1]'),\n",
              " Text(0.2502555714577796, 0.5625, 'gini = 0.0\\nsamples = 1\\nvalue = [0, 0, 0, 0, 1]'),\n",
              " Text(0.2567982007769372, 0.5625, 'X[2] <= 12.075\\ngini = 0.667\\nsamples = 3\\nvalue = [1, 1, 1, 0, 0]'),\n",
              " Text(0.2535268861173584, 0.5208333333333334, 'gini = 0.0\\nsamples = 1\\nvalue = [0, 1, 0, 0, 0]'),\n",
              " Text(0.2600695154365161, 0.5208333333333334, 'X[2] <= 12.625\\ngini = 0.5\\nsamples = 2\\nvalue = [1, 0, 1, 0, 0]'),\n",
              " Text(0.2567982007769372, 0.4791666666666667, 'gini = 0.0\\nsamples = 1\\nvalue = [1, 0, 0, 0, 0]'),\n",
              " Text(0.2633408300960949, 0.4791666666666667, 'gini = 0.0\\nsamples = 1\\nvalue = [0, 0, 1, 0, 0]'),\n",
              " Text(0.36137804130034756, 0.7291666666666666, 'X[2] <= 11.375\\ngini = 0.609\\nsamples = 65\\nvalue = [2, 18, 10, 0, 35]'),\n",
              " Text(0.338376610100184, 0.6875, 'X[1] <= 3.35\\ngini = 0.561\\nsamples = 53\\nvalue = [2, 13, 6, 0, 32]'),\n",
              " Text(0.308730320997751, 0.6458333333333334, 'X[1] <= 2.75\\ngini = 0.522\\nsamples = 47\\nvalue = [2, 12, 3, 0, 30]'),\n",
              " Text(0.28215088938867305, 0.6041666666666666, 'X[2] <= 4.875\\ngini = 0.609\\nsamples = 23\\nvalue = [1, 9, 2, 0, 11]'),\n",
              " Text(0.2698834594152525, 0.5625, 'X[2] <= 3.75\\ngini = 0.375\\nsamples = 4\\nvalue = [0, 3, 0, 0, 1]'),\n",
              " Text(0.2666121447556737, 0.5208333333333334, 'gini = 0.0\\nsamples = 1\\nvalue = [0, 0, 0, 0, 1]'),\n",
              " Text(0.2731547740748313, 0.5208333333333334, 'gini = 0.0\\nsamples = 3\\nvalue = [0, 3, 0, 0, 0]'),\n",
              " Text(0.2944183193620936, 0.5625, 'X[2] <= 9.325\\ngini = 0.609\\nsamples = 19\\nvalue = [1, 6, 2, 0, 10]'),\n",
              " Text(0.27969740339398896, 0.5208333333333334, 'X[2] <= 6.65\\ngini = 0.58\\nsamples = 10\\nvalue = [1, 1, 2, 0, 6]'),\n",
              " Text(0.2698834594152525, 0.4791666666666667, 'X[2] <= 5.825\\ngini = 0.278\\nsamples = 6\\nvalue = [0, 1, 0, 0, 5]'),\n",
              " Text(0.2666121447556737, 0.4375, 'gini = 0.0\\nsamples = 3\\nvalue = [0, 0, 0, 0, 3]'),\n",
              " Text(0.2731547740748313, 0.4375, 'X[1] <= 2.65\\ngini = 0.444\\nsamples = 3\\nvalue = [0, 1, 0, 0, 2]'),\n",
              " Text(0.2698834594152525, 0.3958333333333333, 'gini = 0.0\\nsamples = 1\\nvalue = [0, 0, 0, 0, 1]'),\n",
              " Text(0.27642608873441016, 0.3958333333333333, 'X[2] <= 6.225\\ngini = 0.5\\nsamples = 2\\nvalue = [0, 1, 0, 0, 1]'),\n",
              " Text(0.2731547740748313, 0.3541666666666667, 'gini = 0.0\\nsamples = 1\\nvalue = [0, 1, 0, 0, 0]'),\n",
              " Text(0.27969740339398896, 0.3541666666666667, 'gini = 0.0\\nsamples = 1\\nvalue = [0, 0, 0, 0, 1]'),\n",
              " Text(0.28951134737272544, 0.4791666666666667, 'X[2] <= 7.35\\ngini = 0.625\\nsamples = 4\\nvalue = [1, 0, 2, 0, 1]'),\n",
              " Text(0.2862400327131466, 0.4375, 'gini = 0.0\\nsamples = 1\\nvalue = [1, 0, 0, 0, 0]'),\n",
              " Text(0.29278266203230424, 0.4375, 'X[1] <= 2.65\\ngini = 0.444\\nsamples = 3\\nvalue = [0, 0, 2, 0, 1]'),\n",
              " Text(0.28951134737272544, 0.3958333333333333, 'X[2] <= 8.475\\ngini = 0.5\\nsamples = 2\\nvalue = [0, 0, 1, 0, 1]'),\n",
              " Text(0.2862400327131466, 0.3541666666666667, 'gini = 0.0\\nsamples = 1\\nvalue = [0, 0, 0, 0, 1]'),\n",
              " Text(0.29278266203230424, 0.3541666666666667, 'gini = 0.0\\nsamples = 1\\nvalue = [0, 0, 1, 0, 0]'),\n",
              " Text(0.29605397669188305, 0.3958333333333333, 'gini = 0.0\\nsamples = 1\\nvalue = [0, 0, 1, 0, 0]'),\n",
              " Text(0.3091392353301983, 0.5208333333333334, 'X[2] <= 10.125\\ngini = 0.494\\nsamples = 9\\nvalue = [0, 5, 0, 0, 4]'),\n",
              " Text(0.3025966060110407, 0.4791666666666667, 'X[1] <= 2.65\\ngini = 0.444\\nsamples = 3\\nvalue = [0, 2, 0, 0, 1]'),\n",
              " Text(0.29932529135146185, 0.4375, 'gini = 0.0\\nsamples = 1\\nvalue = [0, 1, 0, 0, 0]'),\n",
              " Text(0.3058679206706195, 0.4375, 'gini = 0.5\\nsamples = 2\\nvalue = [0, 1, 0, 0, 1]'),\n",
              " Text(0.31568186464935594, 0.4791666666666667, 'X[2] <= 10.275\\ngini = 0.5\\nsamples = 6\\nvalue = [0, 3, 0, 0, 3]'),\n",
              " Text(0.31241054998977713, 0.4375, 'gini = 0.0\\nsamples = 1\\nvalue = [0, 0, 0, 0, 1]'),\n",
              " Text(0.3189531793089348, 0.4375, 'X[2] <= 10.45\\ngini = 0.48\\nsamples = 5\\nvalue = [0, 3, 0, 0, 2]'),\n",
              " Text(0.31568186464935594, 0.3958333333333333, 'gini = 0.0\\nsamples = 1\\nvalue = [0, 1, 0, 0, 0]'),\n",
              " Text(0.3222244939685136, 0.3958333333333333, 'X[2] <= 10.725\\ngini = 0.5\\nsamples = 4\\nvalue = [0, 2, 0, 0, 2]'),\n",
              " Text(0.3189531793089348, 0.3541666666666667, 'gini = 0.0\\nsamples = 1\\nvalue = [0, 0, 0, 0, 1]'),\n",
              " Text(0.3254958086280924, 0.3541666666666667, 'X[1] <= 2.65\\ngini = 0.444\\nsamples = 3\\nvalue = [0, 2, 0, 0, 1]'),\n",
              " Text(0.3222244939685136, 0.3125, 'gini = 0.5\\nsamples = 2\\nvalue = [0, 1, 0, 0, 1]'),\n",
              " Text(0.3287671232876712, 0.3125, 'gini = 0.0\\nsamples = 1\\nvalue = [0, 1, 0, 0, 0]'),\n",
              " Text(0.3353097526068289, 0.6041666666666666, 'X[2] <= 3.475\\ngini = 0.354\\nsamples = 24\\nvalue = [1, 3, 1, 0, 19]'),\n",
              " Text(0.3320384379472501, 0.5625, 'gini = 0.0\\nsamples = 1\\nvalue = [0, 1, 0, 0, 0]'),\n",
              " Text(0.3385810672664077, 0.5625, 'X[1] <= 2.95\\ngini = 0.306\\nsamples = 23\\nvalue = [1, 2, 1, 0, 19]'),\n",
              " Text(0.3353097526068289, 0.5208333333333334, 'gini = 0.0\\nsamples = 10\\nvalue = [0, 0, 0, 0, 10]'),\n",
              " Text(0.3418523819259865, 0.5208333333333334, 'X[2] <= 8.475\\ngini = 0.485\\nsamples = 13\\nvalue = [1, 2, 1, 0, 9]'),\n",
              " Text(0.3353097526068289, 0.4791666666666667, 'X[2] <= 7.5\\ngini = 0.611\\nsamples = 6\\nvalue = [0, 2, 1, 0, 3]'),\n",
              " Text(0.3320384379472501, 0.4375, 'X[2] <= 4.875\\ngini = 0.48\\nsamples = 5\\nvalue = [0, 2, 0, 0, 3]'),\n",
              " Text(0.3287671232876712, 0.3958333333333333, 'gini = 0.0\\nsamples = 2\\nvalue = [0, 0, 0, 0, 2]'),\n",
              " Text(0.3353097526068289, 0.3958333333333333, 'X[2] <= 6.125\\ngini = 0.444\\nsamples = 3\\nvalue = [0, 2, 0, 0, 1]'),\n",
              " Text(0.3320384379472501, 0.3541666666666667, 'gini = 0.0\\nsamples = 1\\nvalue = [0, 1, 0, 0, 0]'),\n",
              " Text(0.3385810672664077, 0.3541666666666667, 'X[2] <= 6.525\\ngini = 0.5\\nsamples = 2\\nvalue = [0, 1, 0, 0, 1]'),\n",
              " Text(0.3353097526068289, 0.3125, 'gini = 0.0\\nsamples = 1\\nvalue = [0, 0, 0, 0, 1]'),\n",
              " Text(0.3418523819259865, 0.3125, 'gini = 0.0\\nsamples = 1\\nvalue = [0, 1, 0, 0, 0]'),\n",
              " Text(0.3385810672664077, 0.4375, 'gini = 0.0\\nsamples = 1\\nvalue = [0, 0, 1, 0, 0]'),\n",
              " Text(0.34839501124514416, 0.4791666666666667, 'X[1] <= 3.2\\ngini = 0.245\\nsamples = 7\\nvalue = [1, 0, 0, 0, 6]'),\n",
              " Text(0.3451236965855653, 0.4375, 'gini = 0.0\\nsamples = 5\\nvalue = [0, 0, 0, 0, 5]'),\n",
              " Text(0.35166632590472297, 0.4375, 'X[2] <= 9.025\\ngini = 0.5\\nsamples = 2\\nvalue = [1, 0, 0, 0, 1]'),\n",
              " Text(0.34839501124514416, 0.3958333333333333, 'gini = 0.0\\nsamples = 1\\nvalue = [0, 0, 0, 0, 1]'),\n",
              " Text(0.35493764056430177, 0.3958333333333333, 'gini = 0.0\\nsamples = 1\\nvalue = [1, 0, 0, 0, 0]'),\n",
              " Text(0.36802289920261705, 0.6458333333333334, 'X[1] <= 3.45\\ngini = 0.611\\nsamples = 6\\nvalue = [0, 1, 3, 0, 2]'),\n",
              " Text(0.36475158454303824, 0.6041666666666666, 'X[2] <= 9.575\\ngini = 0.48\\nsamples = 5\\nvalue = [0, 0, 3, 0, 2]'),\n",
              " Text(0.36148026988345944, 0.5625, 'X[2] <= 6.525\\ngini = 0.375\\nsamples = 4\\nvalue = [0, 0, 3, 0, 1]'),\n",
              " Text(0.3582089552238806, 0.5208333333333334, 'X[2] <= 5.85\\ngini = 0.5\\nsamples = 2\\nvalue = [0, 0, 1, 0, 1]'),\n",
              " Text(0.35493764056430177, 0.4791666666666667, 'gini = 0.0\\nsamples = 1\\nvalue = [0, 0, 1, 0, 0]'),\n",
              " Text(0.36148026988345944, 0.4791666666666667, 'gini = 0.0\\nsamples = 1\\nvalue = [0, 0, 0, 0, 1]'),\n",
              " Text(0.36475158454303824, 0.5208333333333334, 'gini = 0.0\\nsamples = 2\\nvalue = [0, 0, 2, 0, 0]'),\n",
              " Text(0.36802289920261705, 0.5625, 'gini = 0.0\\nsamples = 1\\nvalue = [0, 0, 0, 0, 1]'),\n",
              " Text(0.37129421386219585, 0.6041666666666666, 'gini = 0.0\\nsamples = 1\\nvalue = [0, 1, 0, 0, 0]'),\n",
              " Text(0.38437947250051113, 0.6875, 'X[1] <= 3.05\\ngini = 0.653\\nsamples = 12\\nvalue = [0, 5, 4, 0, 3]'),\n",
              " Text(0.3811081578409323, 0.6458333333333334, 'X[2] <= 11.8\\ngini = 0.62\\nsamples = 10\\nvalue = [0, 5, 2, 0, 3]'),\n",
              " Text(0.3778368431813535, 0.6041666666666666, 'gini = 0.0\\nsamples = 1\\nvalue = [0, 0, 1, 0, 0]'),\n",
              " Text(0.38437947250051113, 0.6041666666666666, 'X[2] <= 12.1\\ngini = 0.568\\nsamples = 9\\nvalue = [0, 5, 1, 0, 3]'),\n",
              " Text(0.3811081578409323, 0.5625, 'gini = 0.0\\nsamples = 3\\nvalue = [0, 3, 0, 0, 0]'),\n",
              " Text(0.38765078716008994, 0.5625, 'X[1] <= 2.65\\ngini = 0.611\\nsamples = 6\\nvalue = [0, 2, 1, 0, 3]'),\n",
              " Text(0.38437947250051113, 0.5208333333333334, 'gini = 0.0\\nsamples = 2\\nvalue = [0, 0, 0, 0, 2]'),\n",
              " Text(0.3909221018196688, 0.5208333333333334, 'X[2] <= 12.375\\ngini = 0.625\\nsamples = 4\\nvalue = [0, 2, 1, 0, 1]'),\n",
              " Text(0.38765078716008994, 0.4791666666666667, 'X[1] <= 2.95\\ngini = 0.5\\nsamples = 2\\nvalue = [0, 0, 1, 0, 1]'),\n",
              " Text(0.38437947250051113, 0.4375, 'gini = 0.0\\nsamples = 1\\nvalue = [0, 0, 1, 0, 0]'),\n",
              " Text(0.3909221018196688, 0.4375, 'gini = 0.0\\nsamples = 1\\nvalue = [0, 0, 0, 0, 1]'),\n",
              " Text(0.3941934164792476, 0.4791666666666667, 'gini = 0.0\\nsamples = 2\\nvalue = [0, 2, 0, 0, 0]'),\n",
              " Text(0.38765078716008994, 0.6458333333333334, 'gini = 0.0\\nsamples = 2\\nvalue = [0, 0, 2, 0, 0]'),\n",
              " Text(0.4594152525046003, 0.7708333333333334, 'X[1] <= 5.4\\ngini = 0.412\\nsamples = 89\\nvalue = [5, 8, 9, 0, 67]'),\n",
              " Text(0.4395829073809037, 0.7291666666666666, 'X[2] <= 6.525\\ngini = 0.391\\nsamples = 69\\nvalue = [5, 7, 4, 0, 53]'),\n",
              " Text(0.4244530770803517, 0.6875, 'X[2] <= 5.275\\ngini = 0.526\\nsamples = 19\\nvalue = [1, 5, 1, 0, 12]'),\n",
              " Text(0.40891433244735226, 0.6458333333333334, 'X[1] <= 3.65\\ngini = 0.436\\nsamples = 15\\nvalue = [1, 2, 1, 0, 11]'),\n",
              " Text(0.3974647311388264, 0.6041666666666666, 'X[2] <= 4.175\\ngini = 0.625\\nsamples = 4\\nvalue = [1, 0, 1, 0, 2]'),\n",
              " Text(0.3941934164792476, 0.5625, 'gini = 0.0\\nsamples = 1\\nvalue = [0, 0, 0, 0, 1]'),\n",
              " Text(0.4007360457984052, 0.5625, 'X[2] <= 4.85\\ngini = 0.667\\nsamples = 3\\nvalue = [1, 0, 1, 0, 1]'),\n",
              " Text(0.3974647311388264, 0.5208333333333334, 'gini = 0.5\\nsamples = 2\\nvalue = [1, 0, 1, 0, 0]'),\n",
              " Text(0.4040073604579841, 0.5208333333333334, 'gini = 0.0\\nsamples = 1\\nvalue = [0, 0, 0, 0, 1]'),\n",
              " Text(0.42036393375587816, 0.6041666666666666, 'X[1] <= 4.1\\ngini = 0.298\\nsamples = 11\\nvalue = [0, 2, 0, 0, 9]'),\n",
              " Text(0.4138213044367205, 0.5625, 'X[1] <= 3.85\\ngini = 0.5\\nsamples = 2\\nvalue = [0, 1, 0, 0, 1]'),\n",
              " Text(0.4105499897771417, 0.5208333333333334, 'gini = 0.0\\nsamples = 1\\nvalue = [0, 0, 0, 0, 1]'),\n",
              " Text(0.4170926190962993, 0.5208333333333334, 'gini = 0.0\\nsamples = 1\\nvalue = [0, 1, 0, 0, 0]'),\n",
              " Text(0.42690656307503577, 0.5625, 'X[2] <= 3.5\\ngini = 0.198\\nsamples = 9\\nvalue = [0, 1, 0, 0, 8]'),\n",
              " Text(0.42363524841545697, 0.5208333333333334, 'X[1] <= 4.25\\ngini = 0.5\\nsamples = 2\\nvalue = [0, 1, 0, 0, 1]'),\n",
              " Text(0.42036393375587816, 0.4791666666666667, 'gini = 0.0\\nsamples = 1\\nvalue = [0, 0, 0, 0, 1]'),\n",
              " Text(0.42690656307503577, 0.4791666666666667, 'gini = 0.0\\nsamples = 1\\nvalue = [0, 1, 0, 0, 0]'),\n",
              " Text(0.4301778777346146, 0.5208333333333334, 'gini = 0.0\\nsamples = 7\\nvalue = [0, 0, 0, 0, 7]'),\n",
              " Text(0.43999182171335105, 0.6458333333333334, 'X[1] <= 4.0\\ngini = 0.375\\nsamples = 4\\nvalue = [0, 3, 0, 0, 1]'),\n",
              " Text(0.43672050705377224, 0.6041666666666666, 'X[1] <= 3.85\\ngini = 0.5\\nsamples = 2\\nvalue = [0, 1, 0, 0, 1]'),\n",
              " Text(0.43344919239419344, 0.5625, 'gini = 0.0\\nsamples = 1\\nvalue = [0, 1, 0, 0, 0]'),\n",
              " Text(0.43999182171335105, 0.5625, 'gini = 0.0\\nsamples = 1\\nvalue = [0, 0, 0, 0, 1]'),\n",
              " Text(0.44326313637292986, 0.6041666666666666, 'gini = 0.0\\nsamples = 2\\nvalue = [0, 2, 0, 0, 0]'),\n",
              " Text(0.45471273768145576, 0.6875, 'X[1] <= 3.85\\ngini = 0.316\\nsamples = 50\\nvalue = [4, 2, 3, 0, 41]'),\n",
              " Text(0.4514414230218769, 0.6458333333333334, 'gini = 0.0\\nsamples = 12\\nvalue = [0, 0, 0, 0, 12]'),\n",
              " Text(0.45798405234103456, 0.6458333333333334, 'X[2] <= 12.375\\ngini = 0.398\\nsamples = 38\\nvalue = [4, 2, 3, 0, 29]'),\n",
              " Text(0.4514414230218769, 0.6041666666666666, 'X[1] <= 4.75\\ngini = 0.31\\nsamples = 34\\nvalue = [3, 1, 2, 0, 28]'),\n",
              " Text(0.4481701083622981, 0.5625, 'X[2] <= 9.575\\ngini = 0.413\\nsamples = 24\\nvalue = [3, 1, 2, 0, 18]'),\n",
              " Text(0.43999182171335105, 0.5208333333333334, 'X[2] <= 9.3\\ngini = 0.486\\nsamples = 12\\nvalue = [3, 1, 0, 0, 8]'),\n",
              " Text(0.43344919239419344, 0.4791666666666667, 'X[1] <= 4.65\\ngini = 0.37\\nsamples = 9\\nvalue = [1, 1, 0, 0, 7]'),\n",
              " Text(0.4301778777346146, 0.4375, 'X[1] <= 4.4\\ngini = 0.219\\nsamples = 8\\nvalue = [0, 1, 0, 0, 7]'),\n",
              " Text(0.42690656307503577, 0.3958333333333333, 'gini = 0.0\\nsamples = 5\\nvalue = [0, 0, 0, 0, 5]'),\n",
              " Text(0.43344919239419344, 0.3958333333333333, 'X[2] <= 8.075\\ngini = 0.444\\nsamples = 3\\nvalue = [0, 1, 0, 0, 2]'),\n",
              " Text(0.4301778777346146, 0.3541666666666667, 'gini = 0.0\\nsamples = 1\\nvalue = [0, 0, 0, 0, 1]'),\n",
              " Text(0.43672050705377224, 0.3541666666666667, 'X[2] <= 8.775\\ngini = 0.5\\nsamples = 2\\nvalue = [0, 1, 0, 0, 1]'),\n",
              " Text(0.43344919239419344, 0.3125, 'gini = 0.0\\nsamples = 1\\nvalue = [0, 1, 0, 0, 0]'),\n",
              " Text(0.43999182171335105, 0.3125, 'gini = 0.0\\nsamples = 1\\nvalue = [0, 0, 0, 0, 1]'),\n",
              " Text(0.43672050705377224, 0.4375, 'gini = 0.0\\nsamples = 1\\nvalue = [1, 0, 0, 0, 0]'),\n",
              " Text(0.4465344510325087, 0.4791666666666667, 'X[1] <= 4.5\\ngini = 0.444\\nsamples = 3\\nvalue = [2, 0, 0, 0, 1]'),\n",
              " Text(0.44326313637292986, 0.4375, 'gini = 0.0\\nsamples = 2\\nvalue = [2, 0, 0, 0, 0]'),\n",
              " Text(0.4498057656920875, 0.4375, 'gini = 0.0\\nsamples = 1\\nvalue = [0, 0, 0, 0, 1]'),\n",
              " Text(0.45634839501124513, 0.5208333333333334, 'X[1] <= 3.95\\ngini = 0.278\\nsamples = 12\\nvalue = [0, 0, 2, 0, 10]'),\n",
              " Text(0.45307708035166633, 0.4791666666666667, 'gini = 0.0\\nsamples = 1\\nvalue = [0, 0, 1, 0, 0]'),\n",
              " Text(0.45961970967082394, 0.4791666666666667, 'X[2] <= 11.5\\ngini = 0.165\\nsamples = 11\\nvalue = [0, 0, 1, 0, 10]'),\n",
              " Text(0.45634839501124513, 0.4375, 'gini = 0.0\\nsamples = 7\\nvalue = [0, 0, 0, 0, 7]'),\n",
              " Text(0.4628910243304028, 0.4375, 'X[2] <= 11.8\\ngini = 0.375\\nsamples = 4\\nvalue = [0, 0, 1, 0, 3]'),\n",
              " Text(0.45961970967082394, 0.3958333333333333, 'X[1] <= 4.5\\ngini = 0.5\\nsamples = 2\\nvalue = [0, 0, 1, 0, 1]'),\n",
              " Text(0.45634839501124513, 0.3541666666666667, 'gini = 0.0\\nsamples = 1\\nvalue = [0, 0, 1, 0, 0]'),\n",
              " Text(0.4628910243304028, 0.3541666666666667, 'gini = 0.0\\nsamples = 1\\nvalue = [0, 0, 0, 0, 1]'),\n",
              " Text(0.4661623389899816, 0.3958333333333333, 'gini = 0.0\\nsamples = 2\\nvalue = [0, 0, 0, 0, 2]'),\n",
              " Text(0.45471273768145576, 0.5625, 'gini = 0.0\\nsamples = 10\\nvalue = [0, 0, 0, 0, 10]'),\n",
              " Text(0.4645266816601922, 0.6041666666666666, 'X[1] <= 4.55\\ngini = 0.75\\nsamples = 4\\nvalue = [1, 1, 1, 0, 1]'),\n",
              " Text(0.46125536700061337, 0.5625, 'gini = 0.0\\nsamples = 1\\nvalue = [1, 0, 0, 0, 0]'),\n",
              " Text(0.467797996319771, 0.5625, 'X[2] <= 12.625\\ngini = 0.667\\nsamples = 3\\nvalue = [0, 1, 1, 0, 1]'),\n",
              " Text(0.4645266816601922, 0.5208333333333334, 'gini = 0.0\\nsamples = 1\\nvalue = [0, 1, 0, 0, 0]'),\n",
              " Text(0.47106931097934984, 0.5208333333333334, 'X[1] <= 5.0\\ngini = 0.5\\nsamples = 2\\nvalue = [0, 0, 1, 0, 1]'),\n",
              " Text(0.467797996319771, 0.4791666666666667, 'gini = 0.0\\nsamples = 1\\nvalue = [0, 0, 1, 0, 0]'),\n",
              " Text(0.47434062563892865, 0.4791666666666667, 'gini = 0.0\\nsamples = 1\\nvalue = [0, 0, 0, 0, 1]'),\n",
              " Text(0.4792475976282969, 0.7291666666666666, 'X[1] <= 5.65\\ngini = 0.445\\nsamples = 20\\nvalue = [0, 1, 5, 0, 14]'),\n",
              " Text(0.47106931097934984, 0.6875, 'X[2] <= 10.425\\ngini = 0.375\\nsamples = 4\\nvalue = [0, 0, 3, 0, 1]'),\n",
              " Text(0.467797996319771, 0.6458333333333334, 'gini = 0.0\\nsamples = 3\\nvalue = [0, 0, 3, 0, 0]'),\n",
              " Text(0.47434062563892865, 0.6458333333333334, 'gini = 0.0\\nsamples = 1\\nvalue = [0, 0, 0, 0, 1]'),\n",
              " Text(0.4874258842772439, 0.6875, 'X[2] <= 8.225\\ngini = 0.32\\nsamples = 16\\nvalue = [0, 1, 2, 0, 13]'),\n",
              " Text(0.48088325495808626, 0.6458333333333334, 'X[2] <= 7.5\\ngini = 0.408\\nsamples = 7\\nvalue = [0, 0, 2, 0, 5]'),\n",
              " Text(0.47761194029850745, 0.6041666666666666, 'X[2] <= 4.725\\ngini = 0.278\\nsamples = 6\\nvalue = [0, 0, 1, 0, 5]'),\n",
              " Text(0.47434062563892865, 0.5625, 'gini = 0.0\\nsamples = 3\\nvalue = [0, 0, 0, 0, 3]'),\n",
              " Text(0.48088325495808626, 0.5625, 'X[2] <= 5.7\\ngini = 0.444\\nsamples = 3\\nvalue = [0, 0, 1, 0, 2]'),\n",
              " Text(0.47761194029850745, 0.5208333333333334, 'gini = 0.0\\nsamples = 1\\nvalue = [0, 0, 1, 0, 0]'),\n",
              " Text(0.4841545696176651, 0.5208333333333334, 'gini = 0.0\\nsamples = 2\\nvalue = [0, 0, 0, 0, 2]'),\n",
              " Text(0.4841545696176651, 0.6041666666666666, 'gini = 0.0\\nsamples = 1\\nvalue = [0, 0, 1, 0, 0]'),\n",
              " Text(0.49396851359640154, 0.6458333333333334, 'X[1] <= 6.55\\ngini = 0.198\\nsamples = 9\\nvalue = [0, 1, 0, 0, 8]'),\n",
              " Text(0.49069719893682273, 0.6041666666666666, 'gini = 0.0\\nsamples = 6\\nvalue = [0, 0, 0, 0, 6]'),\n",
              " Text(0.4972398282559804, 0.6041666666666666, 'X[1] <= 6.8\\ngini = 0.444\\nsamples = 3\\nvalue = [0, 1, 0, 0, 2]'),\n",
              " Text(0.49396851359640154, 0.5625, 'gini = 0.0\\nsamples = 1\\nvalue = [0, 1, 0, 0, 0]'),\n",
              " Text(0.5005111429155592, 0.5625, 'gini = 0.0\\nsamples = 2\\nvalue = [0, 0, 0, 0, 2]'),\n",
              " Text(0.6151101832447352, 0.8958333333333334, 'X[1] <= 1.45\\ngini = 0.3\\nsamples = 499\\nvalue = [25, 44, 16, 0, 414]'),\n",
              " Text(0.5103250868942957, 0.8541666666666666, 'X[2] <= 18.9\\ngini = 0.526\\nsamples = 21\\nvalue = [0, 8, 1, 0, 12]'),\n",
              " Text(0.5070537722347168, 0.8125, 'X[1] <= 1.35\\ngini = 0.555\\nsamples = 16\\nvalue = [0, 8, 1, 0, 7]'),\n",
              " Text(0.503782457575138, 0.7708333333333334, 'X[2] <= 14.175\\ngini = 0.556\\nsamples = 13\\nvalue = [0, 5, 1, 0, 7]'),\n",
              " Text(0.5005111429155592, 0.7291666666666666, 'gini = 0.0\\nsamples = 2\\nvalue = [0, 2, 0, 0, 0]'),\n",
              " Text(0.5070537722347168, 0.7291666666666666, 'X[2] <= 18.175\\ngini = 0.512\\nsamples = 11\\nvalue = [0, 3, 1, 0, 7]'),\n",
              " Text(0.503782457575138, 0.6875, 'X[2] <= 14.85\\ngini = 0.42\\nsamples = 10\\nvalue = [0, 3, 0, 0, 7]'),\n",
              " Text(0.5005111429155592, 0.6458333333333334, 'gini = 0.0\\nsamples = 2\\nvalue = [0, 0, 0, 0, 2]'),\n",
              " Text(0.5070537722347168, 0.6458333333333334, 'X[2] <= 15.4\\ngini = 0.469\\nsamples = 8\\nvalue = [0, 3, 0, 0, 5]'),\n",
              " Text(0.503782457575138, 0.6041666666666666, 'gini = 0.0\\nsamples = 1\\nvalue = [0, 1, 0, 0, 0]'),\n",
              " Text(0.5103250868942957, 0.6041666666666666, 'X[1] <= 1.15\\ngini = 0.408\\nsamples = 7\\nvalue = [0, 2, 0, 0, 5]'),\n",
              " Text(0.5070537722347168, 0.5625, 'X[1] <= 1.05\\ngini = 0.5\\nsamples = 4\\nvalue = [0, 2, 0, 0, 2]'),\n",
              " Text(0.503782457575138, 0.5208333333333334, 'X[2] <= 15.975\\ngini = 0.444\\nsamples = 3\\nvalue = [0, 1, 0, 0, 2]'),\n",
              " Text(0.5005111429155592, 0.4791666666666667, 'gini = 0.0\\nsamples = 1\\nvalue = [0, 0, 0, 0, 1]'),\n",
              " Text(0.5070537722347168, 0.4791666666666667, 'X[2] <= 17.075\\ngini = 0.5\\nsamples = 2\\nvalue = [0, 1, 0, 0, 1]'),\n",
              " Text(0.503782457575138, 0.4375, 'gini = 0.0\\nsamples = 1\\nvalue = [0, 1, 0, 0, 0]'),\n",
              " Text(0.5103250868942957, 0.4375, 'gini = 0.0\\nsamples = 1\\nvalue = [0, 0, 0, 0, 1]'),\n",
              " Text(0.5103250868942957, 0.5208333333333334, 'gini = 0.0\\nsamples = 1\\nvalue = [0, 1, 0, 0, 0]'),\n",
              " Text(0.5135964015538744, 0.5625, 'gini = 0.0\\nsamples = 3\\nvalue = [0, 0, 0, 0, 3]'),\n",
              " Text(0.5103250868942957, 0.6875, 'gini = 0.0\\nsamples = 1\\nvalue = [0, 0, 1, 0, 0]'),\n",
              " Text(0.5103250868942957, 0.7708333333333334, 'gini = 0.0\\nsamples = 3\\nvalue = [0, 3, 0, 0, 0]'),\n",
              " Text(0.5135964015538744, 0.8125, 'gini = 0.0\\nsamples = 5\\nvalue = [0, 0, 0, 0, 5]'),\n",
              " Text(0.7198952795951749, 0.8541666666666666, 'X[1] <= 2.25\\ngini = 0.283\\nsamples = 478\\nvalue = [25, 36, 15, 0, 402]'),\n",
              " Text(0.6008996115313842, 0.8125, 'X[1] <= 2.15\\ngini = 0.404\\nsamples = 110\\nvalue = [11, 14, 2, 0, 83]'),\n",
              " Text(0.5696176650991617, 0.7708333333333334, 'X[2] <= 17.925\\ngini = 0.345\\nsamples = 84\\nvalue = [9, 7, 1, 0, 67]'),\n",
              " Text(0.5438560621549785, 0.7291666666666666, 'X[2] <= 16.375\\ngini = 0.482\\nsamples = 42\\nvalue = [6, 6, 1, 0, 29]'),\n",
              " Text(0.5266816601921898, 0.6875, 'X[2] <= 14.575\\ngini = 0.37\\nsamples = 27\\nvalue = [3, 3, 0, 0, 21]'),\n",
              " Text(0.5201390308730321, 0.6458333333333334, 'X[2] <= 14.175\\ngini = 0.512\\nsamples = 11\\nvalue = [3, 1, 0, 0, 7]'),\n",
              " Text(0.5168677162134533, 0.6041666666666666, 'gini = 0.0\\nsamples = 4\\nvalue = [0, 0, 0, 0, 4]'),\n",
              " Text(0.5234103455326109, 0.6041666666666666, 'X[1] <= 1.95\\ngini = 0.612\\nsamples = 7\\nvalue = [3, 1, 0, 0, 3]'),\n",
              " Text(0.5201390308730321, 0.5625, 'X[2] <= 14.3\\ngini = 0.56\\nsamples = 5\\nvalue = [1, 1, 0, 0, 3]'),\n",
              " Text(0.5168677162134533, 0.5208333333333334, 'gini = 0.0\\nsamples = 1\\nvalue = [0, 1, 0, 0, 0]'),\n",
              " Text(0.5234103455326109, 0.5208333333333334, 'X[1] <= 1.75\\ngini = 0.375\\nsamples = 4\\nvalue = [1, 0, 0, 0, 3]'),\n",
              " Text(0.5201390308730321, 0.4791666666666667, 'gini = 0.0\\nsamples = 1\\nvalue = [1, 0, 0, 0, 0]'),\n",
              " Text(0.5266816601921898, 0.4791666666666667, 'gini = 0.0\\nsamples = 3\\nvalue = [0, 0, 0, 0, 3]'),\n",
              " Text(0.5266816601921898, 0.5625, 'gini = 0.0\\nsamples = 2\\nvalue = [2, 0, 0, 0, 0]'),\n",
              " Text(0.5332242895113474, 0.6458333333333334, 'X[2] <= 15.425\\ngini = 0.219\\nsamples = 16\\nvalue = [0, 2, 0, 0, 14]'),\n",
              " Text(0.5299529748517685, 0.6041666666666666, 'gini = 0.0\\nsamples = 8\\nvalue = [0, 0, 0, 0, 8]'),\n",
              " Text(0.5364956041709262, 0.6041666666666666, 'X[2] <= 15.675\\ngini = 0.375\\nsamples = 8\\nvalue = [0, 2, 0, 0, 6]'),\n",
              " Text(0.5332242895113474, 0.5625, 'X[1] <= 1.9\\ngini = 0.444\\nsamples = 3\\nvalue = [0, 2, 0, 0, 1]'),\n",
              " Text(0.5299529748517685, 0.5208333333333334, 'gini = 0.0\\nsamples = 1\\nvalue = [0, 1, 0, 0, 0]'),\n",
              " Text(0.5364956041709262, 0.5208333333333334, 'gini = 0.5\\nsamples = 2\\nvalue = [0, 1, 0, 0, 1]'),\n",
              " Text(0.539766918830505, 0.5625, 'gini = 0.0\\nsamples = 5\\nvalue = [0, 0, 0, 0, 5]'),\n",
              " Text(0.5610304641177674, 0.6875, 'X[1] <= 1.95\\ngini = 0.631\\nsamples = 15\\nvalue = [3, 3, 1, 0, 8]'),\n",
              " Text(0.5577591494581885, 0.6458333333333334, 'X[1] <= 1.75\\ngini = 0.711\\nsamples = 11\\nvalue = [3, 3, 1, 0, 4]'),\n",
              " Text(0.5495808628092415, 0.6041666666666666, 'X[1] <= 1.6\\ngini = 0.444\\nsamples = 3\\nvalue = [2, 0, 0, 0, 1]'),\n",
              " Text(0.5463095481496626, 0.5625, 'gini = 0.0\\nsamples = 1\\nvalue = [0, 0, 0, 0, 1]'),\n",
              " Text(0.5528521774688203, 0.5625, 'gini = 0.0\\nsamples = 2\\nvalue = [2, 0, 0, 0, 0]'),\n",
              " Text(0.5659374361071355, 0.6041666666666666, 'X[2] <= 16.675\\ngini = 0.688\\nsamples = 8\\nvalue = [1, 3, 1, 0, 3]'),\n",
              " Text(0.5593948067879779, 0.5625, 'X[1] <= 1.85\\ngini = 0.5\\nsamples = 2\\nvalue = [0, 0, 1, 0, 1]'),\n",
              " Text(0.5561234921283991, 0.5208333333333334, 'gini = 0.0\\nsamples = 1\\nvalue = [0, 0, 1, 0, 0]'),\n",
              " Text(0.5626661214475568, 0.5208333333333334, 'gini = 0.0\\nsamples = 1\\nvalue = [0, 0, 0, 0, 1]'),\n",
              " Text(0.5724800654262931, 0.5625, 'X[2] <= 17.225\\ngini = 0.611\\nsamples = 6\\nvalue = [1, 3, 0, 0, 2]'),\n",
              " Text(0.5692087507667144, 0.5208333333333334, 'gini = 0.0\\nsamples = 2\\nvalue = [0, 2, 0, 0, 0]'),\n",
              " Text(0.575751380085872, 0.5208333333333334, 'X[1] <= 1.85\\ngini = 0.625\\nsamples = 4\\nvalue = [1, 1, 0, 0, 2]'),\n",
              " Text(0.5724800654262931, 0.4791666666666667, 'gini = 0.0\\nsamples = 1\\nvalue = [0, 0, 0, 0, 1]'),\n",
              " Text(0.5790226947454509, 0.4791666666666667, 'X[2] <= 17.775\\ngini = 0.667\\nsamples = 3\\nvalue = [1, 1, 0, 0, 1]'),\n",
              " Text(0.575751380085872, 0.4375, 'gini = 0.0\\nsamples = 1\\nvalue = [0, 1, 0, 0, 0]'),\n",
              " Text(0.5822940094050296, 0.4375, 'gini = 0.5\\nsamples = 2\\nvalue = [1, 0, 0, 0, 1]'),\n",
              " Text(0.5643017787773461, 0.6458333333333334, 'gini = 0.0\\nsamples = 4\\nvalue = [0, 0, 0, 0, 4]'),\n",
              " Text(0.595379268043345, 0.7291666666666666, 'X[1] <= 1.55\\ngini = 0.176\\nsamples = 42\\nvalue = [3, 1, 0, 0, 38]'),\n",
              " Text(0.5888366387241872, 0.6875, 'X[2] <= 19.575\\ngini = 0.5\\nsamples = 2\\nvalue = [0, 1, 0, 0, 1]'),\n",
              " Text(0.5855653240646085, 0.6458333333333334, 'gini = 0.0\\nsamples = 1\\nvalue = [0, 0, 0, 0, 1]'),\n",
              " Text(0.5921079533837661, 0.6458333333333334, 'gini = 0.0\\nsamples = 1\\nvalue = [0, 1, 0, 0, 0]'),\n",
              " Text(0.6019218973625026, 0.6875, 'X[2] <= 20.825\\ngini = 0.139\\nsamples = 40\\nvalue = [3, 0, 0, 0, 37]'),\n",
              " Text(0.5986505827029237, 0.6458333333333334, 'gini = 0.0\\nsamples = 17\\nvalue = [0, 0, 0, 0, 17]'),\n",
              " Text(0.6051932120220814, 0.6458333333333334, 'X[2] <= 24.025\\ngini = 0.227\\nsamples = 23\\nvalue = [3, 0, 0, 0, 20]'),\n",
              " Text(0.6019218973625026, 0.6041666666666666, 'X[2] <= 23.625\\ngini = 0.266\\nsamples = 19\\nvalue = [3, 0, 0, 0, 16]'),\n",
              " Text(0.5986505827029237, 0.5625, 'X[1] <= 1.95\\ngini = 0.198\\nsamples = 18\\nvalue = [2, 0, 0, 0, 16]'),\n",
              " Text(0.595379268043345, 0.5208333333333334, 'X[2] <= 22.35\\ngini = 0.32\\nsamples = 10\\nvalue = [2, 0, 0, 0, 8]'),\n",
              " Text(0.5921079533837661, 0.4791666666666667, 'X[2] <= 22.075\\ngini = 0.408\\nsamples = 7\\nvalue = [2, 0, 0, 0, 5]'),\n",
              " Text(0.5888366387241872, 0.4375, 'X[2] <= 20.975\\ngini = 0.278\\nsamples = 6\\nvalue = [1, 0, 0, 0, 5]'),\n",
              " Text(0.5855653240646085, 0.3958333333333333, 'X[1] <= 1.85\\ngini = 0.444\\nsamples = 3\\nvalue = [1, 0, 0, 0, 2]'),\n",
              " Text(0.5822940094050296, 0.3541666666666667, 'gini = 0.5\\nsamples = 2\\nvalue = [1, 0, 0, 0, 1]'),\n",
              " Text(0.5888366387241872, 0.3541666666666667, 'gini = 0.0\\nsamples = 1\\nvalue = [0, 0, 0, 0, 1]'),\n",
              " Text(0.5921079533837661, 0.3958333333333333, 'gini = 0.0\\nsamples = 3\\nvalue = [0, 0, 0, 0, 3]'),\n",
              " Text(0.595379268043345, 0.4375, 'gini = 0.0\\nsamples = 1\\nvalue = [1, 0, 0, 0, 0]'),\n",
              " Text(0.5986505827029237, 0.4791666666666667, 'gini = 0.0\\nsamples = 3\\nvalue = [0, 0, 0, 0, 3]'),\n",
              " Text(0.6019218973625026, 0.5208333333333334, 'gini = 0.0\\nsamples = 8\\nvalue = [0, 0, 0, 0, 8]'),\n",
              " Text(0.6051932120220814, 0.5625, 'gini = 0.0\\nsamples = 1\\nvalue = [1, 0, 0, 0, 0]'),\n",
              " Text(0.6084645266816602, 0.6041666666666666, 'gini = 0.0\\nsamples = 4\\nvalue = [0, 0, 0, 0, 4]'),\n",
              " Text(0.6321815579636066, 0.7708333333333334, 'X[2] <= 14.725\\ngini = 0.541\\nsamples = 26\\nvalue = [2, 7, 1, 0, 16]'),\n",
              " Text(0.6289102433040278, 0.7291666666666666, 'gini = 0.0\\nsamples = 1\\nvalue = [0, 1, 0, 0, 0]'),\n",
              " Text(0.6354528726231854, 0.7291666666666666, 'X[2] <= 17.225\\ngini = 0.525\\nsamples = 25\\nvalue = [2, 6, 1, 0, 16]'),\n",
              " Text(0.6321815579636066, 0.6875, 'gini = 0.0\\nsamples = 5\\nvalue = [0, 0, 0, 0, 5]'),\n",
              " Text(0.6387241872827643, 0.6875, 'X[2] <= 21.125\\ngini = 0.595\\nsamples = 20\\nvalue = [2, 6, 1, 0, 11]'),\n",
              " Text(0.6264567573093437, 0.6458333333333334, 'X[2] <= 19.725\\ngini = 0.675\\nsamples = 13\\nvalue = [2, 5, 1, 0, 5]'),\n",
              " Text(0.6150071560008178, 0.6041666666666666, 'X[2] <= 18.075\\ngini = 0.625\\nsamples = 8\\nvalue = [2, 2, 0, 0, 4]'),\n",
              " Text(0.611735841341239, 0.5625, 'gini = 0.0\\nsamples = 1\\nvalue = [0, 1, 0, 0, 0]'),\n",
              " Text(0.6182784706603967, 0.5625, 'X[2] <= 19.45\\ngini = 0.571\\nsamples = 7\\nvalue = [2, 1, 0, 0, 4]'),\n",
              " Text(0.6150071560008178, 0.5208333333333334, 'X[2] <= 18.725\\ngini = 0.64\\nsamples = 5\\nvalue = [2, 1, 0, 0, 2]'),\n",
              " Text(0.6084645266816602, 0.4791666666666667, 'X[2] <= 18.475\\ngini = 0.444\\nsamples = 3\\nvalue = [1, 0, 0, 0, 2]'),\n",
              " Text(0.6051932120220814, 0.4375, 'gini = 0.0\\nsamples = 1\\nvalue = [0, 0, 0, 0, 1]'),\n",
              " Text(0.611735841341239, 0.4375, 'gini = 0.5\\nsamples = 2\\nvalue = [1, 0, 0, 0, 1]'),\n",
              " Text(0.6215497853199755, 0.4791666666666667, 'X[2] <= 19.025\\ngini = 0.5\\nsamples = 2\\nvalue = [1, 1, 0, 0, 0]'),\n",
              " Text(0.6182784706603967, 0.4375, 'gini = 0.0\\nsamples = 1\\nvalue = [0, 1, 0, 0, 0]'),\n",
              " Text(0.6248210999795543, 0.4375, 'gini = 0.0\\nsamples = 1\\nvalue = [1, 0, 0, 0, 0]'),\n",
              " Text(0.6215497853199755, 0.5208333333333334, 'gini = 0.0\\nsamples = 2\\nvalue = [0, 0, 0, 0, 2]'),\n",
              " Text(0.6379063586178696, 0.6041666666666666, 'X[2] <= 20.275\\ngini = 0.56\\nsamples = 5\\nvalue = [0, 3, 1, 0, 1]'),\n",
              " Text(0.6313637292987119, 0.5625, 'X[2] <= 19.875\\ngini = 0.5\\nsamples = 2\\nvalue = [0, 1, 1, 0, 0]'),\n",
              " Text(0.6280924146391331, 0.5208333333333334, 'gini = 0.0\\nsamples = 1\\nvalue = [0, 1, 0, 0, 0]'),\n",
              " Text(0.6346350439582907, 0.5208333333333334, 'gini = 0.0\\nsamples = 1\\nvalue = [0, 0, 1, 0, 0]'),\n",
              " Text(0.6444489879370272, 0.5625, 'X[2] <= 20.575\\ngini = 0.444\\nsamples = 3\\nvalue = [0, 2, 0, 0, 1]'),\n",
              " Text(0.6411776732774483, 0.5208333333333334, 'gini = 0.0\\nsamples = 1\\nvalue = [0, 1, 0, 0, 0]'),\n",
              " Text(0.647720302596606, 0.5208333333333334, 'X[2] <= 20.725\\ngini = 0.5\\nsamples = 2\\nvalue = [0, 1, 0, 0, 1]'),\n",
              " Text(0.6444489879370272, 0.4791666666666667, 'gini = 0.0\\nsamples = 1\\nvalue = [0, 0, 0, 0, 1]'),\n",
              " Text(0.6509916172561848, 0.4791666666666667, 'gini = 0.0\\nsamples = 1\\nvalue = [0, 1, 0, 0, 0]'),\n",
              " Text(0.6509916172561848, 0.6458333333333334, 'X[2] <= 22.225\\ngini = 0.245\\nsamples = 7\\nvalue = [0, 1, 0, 0, 6]'),\n",
              " Text(0.647720302596606, 0.6041666666666666, 'gini = 0.0\\nsamples = 3\\nvalue = [0, 0, 0, 0, 3]'),\n",
              " Text(0.6542629319157637, 0.6041666666666666, 'X[2] <= 22.775\\ngini = 0.375\\nsamples = 4\\nvalue = [0, 1, 0, 0, 3]'),\n",
              " Text(0.6509916172561848, 0.5625, 'gini = 0.0\\nsamples = 1\\nvalue = [0, 1, 0, 0, 0]'),\n",
              " Text(0.6575342465753424, 0.5625, 'gini = 0.0\\nsamples = 3\\nvalue = [0, 0, 0, 0, 3]'),\n",
              " Text(0.8388909476589654, 0.8125, 'X[2] <= 23.075\\ngini = 0.242\\nsamples = 368\\nvalue = [14, 22, 13, 0, 319]'),\n",
              " Text(0.8356196329993866, 0.7708333333333334, 'X[2] <= 19.3\\ngini = 0.259\\nsamples = 342\\nvalue = [14, 22, 13, 0, 293]'),\n",
              " Text(0.7808283070946637, 0.7291666666666666, 'X[1] <= 3.45\\ngini = 0.237\\nsamples = 223\\nvalue = [9, 9, 11, 0, 194]'),\n",
              " Text(0.7595711510938459, 0.6875, 'X[2] <= 18.325\\ngini = 0.291\\nsamples = 159\\nvalue = [8, 9, 9, 0, 133]'),\n",
              " Text(0.7415916990390513, 0.6458333333333334, 'X[1] <= 3.35\\ngini = 0.34\\nsamples = 128\\nvalue = [7, 9, 9, 0, 103]'),\n",
              " Text(0.7252606828869352, 0.6041666666666666, 'X[2] <= 18.175\\ngini = 0.309\\nsamples = 120\\nvalue = [7, 7, 7, 0, 99]'),\n",
              " Text(0.7056839092210182, 0.5625, 'X[2] <= 16.125\\ngini = 0.301\\nsamples = 118\\nvalue = [7, 7, 6, 0, 98]'),\n",
              " Text(0.6763443058679207, 0.5208333333333334, 'X[1] <= 3.05\\ngini = 0.276\\nsamples = 58\\nvalue = [2, 2, 5, 0, 49]'),\n",
              " Text(0.6575342465753424, 0.4791666666666667, 'X[1] <= 2.85\\ngini = 0.243\\nsamples = 45\\nvalue = [2, 2, 2, 0, 39]'),\n",
              " Text(0.6542629319157637, 0.4375, 'X[2] <= 15.55\\ngini = 0.337\\nsamples = 31\\nvalue = [2, 2, 2, 0, 25]'),\n",
              " Text(0.6428133306072378, 0.3958333333333333, 'X[1] <= 2.65\\ngini = 0.302\\nsamples = 23\\nvalue = [2, 2, 0, 0, 19]'),\n",
              " Text(0.6362707012880802, 0.3541666666666667, 'X[2] <= 14.85\\ngini = 0.26\\nsamples = 13\\nvalue = [2, 0, 0, 0, 11]'),\n",
              " Text(0.6329993866285013, 0.3125, 'X[2] <= 14.025\\ngini = 0.346\\nsamples = 9\\nvalue = [2, 0, 0, 0, 7]'),\n",
              " Text(0.6297280719689226, 0.2708333333333333, 'gini = 0.0\\nsamples = 2\\nvalue = [0, 0, 0, 0, 2]'),\n",
              " Text(0.6362707012880802, 0.2708333333333333, 'X[2] <= 14.175\\ngini = 0.408\\nsamples = 7\\nvalue = [2, 0, 0, 0, 5]'),\n",
              " Text(0.6329993866285013, 0.22916666666666666, 'gini = 0.0\\nsamples = 1\\nvalue = [1, 0, 0, 0, 0]'),\n",
              " Text(0.6395420159476589, 0.22916666666666666, 'X[1] <= 2.55\\ngini = 0.278\\nsamples = 6\\nvalue = [1, 0, 0, 0, 5]'),\n",
              " Text(0.6362707012880802, 0.1875, 'X[1] <= 2.45\\ngini = 0.444\\nsamples = 3\\nvalue = [1, 0, 0, 0, 2]'),\n",
              " Text(0.6329993866285013, 0.14583333333333334, 'gini = 0.0\\nsamples = 2\\nvalue = [0, 0, 0, 0, 2]'),\n",
              " Text(0.6395420159476589, 0.14583333333333334, 'gini = 0.0\\nsamples = 1\\nvalue = [1, 0, 0, 0, 0]'),\n",
              " Text(0.6428133306072378, 0.1875, 'gini = 0.0\\nsamples = 3\\nvalue = [0, 0, 0, 0, 3]'),\n",
              " Text(0.6395420159476589, 0.3125, 'gini = 0.0\\nsamples = 4\\nvalue = [0, 0, 0, 0, 4]'),\n",
              " Text(0.6493559599263954, 0.3541666666666667, 'X[2] <= 13.725\\ngini = 0.32\\nsamples = 10\\nvalue = [0, 2, 0, 0, 8]'),\n",
              " Text(0.6460846452668166, 0.3125, 'gini = 0.0\\nsamples = 2\\nvalue = [0, 0, 0, 0, 2]'),\n",
              " Text(0.6526272745859742, 0.3125, 'X[2] <= 13.875\\ngini = 0.375\\nsamples = 8\\nvalue = [0, 2, 0, 0, 6]'),\n",
              " Text(0.6493559599263954, 0.2708333333333333, 'gini = 0.0\\nsamples = 1\\nvalue = [0, 1, 0, 0, 0]'),\n",
              " Text(0.6558985892455531, 0.2708333333333333, 'X[1] <= 2.75\\ngini = 0.245\\nsamples = 7\\nvalue = [0, 1, 0, 0, 6]'),\n",
              " Text(0.6526272745859742, 0.22916666666666666, 'gini = 0.0\\nsamples = 4\\nvalue = [0, 0, 0, 0, 4]'),\n",
              " Text(0.6591699039051319, 0.22916666666666666, 'X[2] <= 14.3\\ngini = 0.444\\nsamples = 3\\nvalue = [0, 1, 0, 0, 2]'),\n",
              " Text(0.6558985892455531, 0.1875, 'gini = 0.0\\nsamples = 1\\nvalue = [0, 0, 0, 0, 1]'),\n",
              " Text(0.6624412185647107, 0.1875, 'X[2] <= 14.975\\ngini = 0.5\\nsamples = 2\\nvalue = [0, 1, 0, 0, 1]'),\n",
              " Text(0.6591699039051319, 0.14583333333333334, 'gini = 0.0\\nsamples = 1\\nvalue = [0, 1, 0, 0, 0]'),\n",
              " Text(0.6657125332242895, 0.14583333333333334, 'gini = 0.0\\nsamples = 1\\nvalue = [0, 0, 0, 0, 1]'),\n",
              " Text(0.6657125332242895, 0.3958333333333333, 'X[2] <= 15.825\\ngini = 0.375\\nsamples = 8\\nvalue = [0, 0, 2, 0, 6]'),\n",
              " Text(0.6624412185647107, 0.3541666666666667, 'gini = 0.5\\nsamples = 2\\nvalue = [0, 0, 1, 0, 1]'),\n",
              " Text(0.6689838478838683, 0.3541666666666667, 'X[1] <= 2.35\\ngini = 0.278\\nsamples = 6\\nvalue = [0, 0, 1, 0, 5]'),\n",
              " Text(0.6657125332242895, 0.3125, 'X[2] <= 15.975\\ngini = 0.444\\nsamples = 3\\nvalue = [0, 0, 1, 0, 2]'),\n",
              " Text(0.6624412185647107, 0.2708333333333333, 'gini = 0.0\\nsamples = 2\\nvalue = [0, 0, 0, 0, 2]'),\n",
              " Text(0.6689838478838683, 0.2708333333333333, 'gini = 0.0\\nsamples = 1\\nvalue = [0, 0, 1, 0, 0]'),\n",
              " Text(0.6722551625434472, 0.3125, 'gini = 0.0\\nsamples = 3\\nvalue = [0, 0, 0, 0, 3]'),\n",
              " Text(0.6608055612349213, 0.4375, 'gini = 0.0\\nsamples = 14\\nvalue = [0, 0, 0, 0, 14]'),\n",
              " Text(0.6951543651604989, 0.4791666666666667, 'X[2] <= 15.7\\ngini = 0.355\\nsamples = 13\\nvalue = [0, 0, 3, 0, 10]'),\n",
              " Text(0.69188305050092, 0.4375, 'X[2] <= 14.875\\ngini = 0.444\\nsamples = 9\\nvalue = [0, 0, 3, 0, 6]'),\n",
              " Text(0.6853404211817624, 0.3958333333333333, 'X[2] <= 13.475\\ngini = 0.278\\nsamples = 6\\nvalue = [0, 0, 1, 0, 5]'),\n",
              " Text(0.6820691065221836, 0.3541666666666667, 'X[2] <= 13.225\\ngini = 0.5\\nsamples = 2\\nvalue = [0, 0, 1, 0, 1]'),\n",
              " Text(0.6787977918626048, 0.3125, 'gini = 0.0\\nsamples = 1\\nvalue = [0, 0, 0, 0, 1]'),\n",
              " Text(0.6853404211817624, 0.3125, 'gini = 0.0\\nsamples = 1\\nvalue = [0, 0, 1, 0, 0]'),\n",
              " Text(0.6886117358413413, 0.3541666666666667, 'gini = 0.0\\nsamples = 4\\nvalue = [0, 0, 0, 0, 4]'),\n",
              " Text(0.6984256798200776, 0.3958333333333333, 'X[2] <= 15.15\\ngini = 0.444\\nsamples = 3\\nvalue = [0, 0, 2, 0, 1]'),\n",
              " Text(0.6951543651604989, 0.3541666666666667, 'gini = 0.0\\nsamples = 1\\nvalue = [0, 0, 1, 0, 0]'),\n",
              " Text(0.7016969944796565, 0.3541666666666667, 'X[2] <= 15.425\\ngini = 0.5\\nsamples = 2\\nvalue = [0, 0, 1, 0, 1]'),\n",
              " Text(0.6984256798200776, 0.3125, 'gini = 0.0\\nsamples = 1\\nvalue = [0, 0, 0, 0, 1]'),\n",
              " Text(0.7049683091392354, 0.3125, 'gini = 0.0\\nsamples = 1\\nvalue = [0, 0, 1, 0, 0]'),\n",
              " Text(0.6984256798200776, 0.4375, 'gini = 0.0\\nsamples = 4\\nvalue = [0, 0, 0, 0, 4]'),\n",
              " Text(0.7350235125741157, 0.5208333333333334, 'X[2] <= 16.25\\ngini = 0.319\\nsamples = 60\\nvalue = [5, 5, 1, 0, 49]'),\n",
              " Text(0.7317521979145369, 0.4791666666666667, 'gini = 0.0\\nsamples = 1\\nvalue = [0, 1, 0, 0, 0]'),\n",
              " Text(0.7382948272336946, 0.4791666666666667, 'X[1] <= 3.15\\ngini = 0.298\\nsamples = 59\\nvalue = [5, 4, 1, 0, 49]'),\n",
              " Text(0.7350235125741157, 0.4375, 'X[2] <= 17.775\\ngini = 0.332\\nsamples = 52\\nvalue = [5, 4, 1, 0, 42]'),\n",
              " Text(0.7217337967695767, 0.3958333333333333, 'X[1] <= 3.05\\ngini = 0.367\\nsamples = 37\\nvalue = [3, 4, 1, 0, 29]'),\n",
              " Text(0.7147822531179718, 0.3541666666666667, 'X[1] <= 2.85\\ngini = 0.318\\nsamples = 33\\nvalue = [2, 3, 1, 0, 27]'),\n",
              " Text(0.711510938458393, 0.3125, 'X[1] <= 2.75\\ngini = 0.388\\nsamples = 26\\nvalue = [2, 3, 1, 0, 20]'),\n",
              " Text(0.7008791658147618, 0.2708333333333333, 'X[1] <= 2.35\\ngini = 0.367\\nsamples = 23\\nvalue = [1, 3, 1, 0, 18]'),\n",
              " Text(0.6894295645062359, 0.22916666666666666, 'X[2] <= 17.35\\ngini = 0.278\\nsamples = 6\\nvalue = [1, 0, 0, 0, 5]'),\n",
              " Text(0.6861582498466571, 0.1875, 'gini = 0.0\\nsamples = 3\\nvalue = [0, 0, 0, 0, 3]'),\n",
              " Text(0.6927008791658148, 0.1875, 'X[2] <= 17.625\\ngini = 0.444\\nsamples = 3\\nvalue = [1, 0, 0, 0, 2]'),\n",
              " Text(0.6894295645062359, 0.14583333333333334, 'gini = 0.5\\nsamples = 2\\nvalue = [1, 0, 0, 0, 1]'),\n",
              " Text(0.6959721938253935, 0.14583333333333334, 'gini = 0.0\\nsamples = 1\\nvalue = [0, 0, 0, 0, 1]'),\n",
              " Text(0.7123287671232876, 0.22916666666666666, 'X[1] <= 2.45\\ngini = 0.381\\nsamples = 17\\nvalue = [0, 3, 1, 0, 13]'),\n",
              " Text(0.70578613780413, 0.1875, 'X[2] <= 17.475\\ngini = 0.5\\nsamples = 2\\nvalue = [0, 1, 0, 0, 1]'),\n",
              " Text(0.7025148231445513, 0.14583333333333334, 'gini = 0.0\\nsamples = 1\\nvalue = [0, 0, 0, 0, 1]'),\n",
              " Text(0.7090574524637089, 0.14583333333333334, 'gini = 0.0\\nsamples = 1\\nvalue = [0, 1, 0, 0, 0]'),\n",
              " Text(0.7188713964424454, 0.1875, 'X[2] <= 17.075\\ngini = 0.338\\nsamples = 15\\nvalue = [0, 2, 1, 0, 12]'),\n",
              " Text(0.7156000817828665, 0.14583333333333334, 'X[2] <= 16.925\\ngini = 0.494\\nsamples = 9\\nvalue = [0, 2, 1, 0, 6]'),\n",
              " Text(0.7090574524637089, 0.10416666666666667, 'X[1] <= 2.55\\ngini = 0.245\\nsamples = 7\\nvalue = [0, 1, 0, 0, 6]'),\n",
              " Text(0.70578613780413, 0.0625, 'X[2] <= 16.525\\ngini = 0.5\\nsamples = 2\\nvalue = [0, 1, 0, 0, 1]'),\n",
              " Text(0.7025148231445513, 0.020833333333333332, 'gini = 0.0\\nsamples = 1\\nvalue = [0, 0, 0, 0, 1]'),\n",
              " Text(0.7090574524637089, 0.020833333333333332, 'gini = 0.0\\nsamples = 1\\nvalue = [0, 1, 0, 0, 0]'),\n",
              " Text(0.7123287671232876, 0.0625, 'gini = 0.0\\nsamples = 5\\nvalue = [0, 0, 0, 0, 5]'),\n",
              " Text(0.7221427111020241, 0.10416666666666667, 'X[1] <= 2.6\\ngini = 0.5\\nsamples = 2\\nvalue = [0, 1, 1, 0, 0]'),\n",
              " Text(0.7188713964424454, 0.0625, 'gini = 0.0\\nsamples = 1\\nvalue = [0, 0, 1, 0, 0]'),\n",
              " Text(0.725414025761603, 0.0625, 'gini = 0.0\\nsamples = 1\\nvalue = [0, 1, 0, 0, 0]'),\n",
              " Text(0.7221427111020241, 0.14583333333333334, 'gini = 0.0\\nsamples = 6\\nvalue = [0, 0, 0, 0, 6]'),\n",
              " Text(0.7221427111020241, 0.2708333333333333, 'X[2] <= 16.65\\ngini = 0.444\\nsamples = 3\\nvalue = [1, 0, 0, 0, 2]'),\n",
              " Text(0.7188713964424454, 0.22916666666666666, 'gini = 0.0\\nsamples = 1\\nvalue = [1, 0, 0, 0, 0]'),\n",
              " Text(0.725414025761603, 0.22916666666666666, 'gini = 0.0\\nsamples = 2\\nvalue = [0, 0, 0, 0, 2]'),\n",
              " Text(0.7180535677775506, 0.3125, 'gini = 0.0\\nsamples = 7\\nvalue = [0, 0, 0, 0, 7]'),\n",
              " Text(0.7286853404211817, 0.3541666666666667, 'X[2] <= 17.1\\ngini = 0.625\\nsamples = 4\\nvalue = [1, 1, 0, 0, 2]'),\n",
              " Text(0.725414025761603, 0.3125, 'gini = 0.0\\nsamples = 1\\nvalue = [0, 0, 0, 0, 1]'),\n",
              " Text(0.7319566550807606, 0.3125, 'X[2] <= 17.625\\ngini = 0.667\\nsamples = 3\\nvalue = [1, 1, 0, 0, 1]'),\n",
              " Text(0.7286853404211817, 0.2708333333333333, 'gini = 0.5\\nsamples = 2\\nvalue = [1, 1, 0, 0, 0]'),\n",
              " Text(0.7352279697403394, 0.2708333333333333, 'gini = 0.0\\nsamples = 1\\nvalue = [0, 0, 0, 0, 1]'),\n",
              " Text(0.7483132283786547, 0.3958333333333333, 'X[1] <= 2.95\\ngini = 0.231\\nsamples = 15\\nvalue = [2, 0, 0, 0, 13]'),\n",
              " Text(0.741770599059497, 0.3541666666666667, 'X[1] <= 2.55\\ngini = 0.153\\nsamples = 12\\nvalue = [1, 0, 0, 0, 11]'),\n",
              " Text(0.7384992843999182, 0.3125, 'gini = 0.0\\nsamples = 5\\nvalue = [0, 0, 0, 0, 5]'),\n",
              " Text(0.7450419137190758, 0.3125, 'X[1] <= 2.65\\ngini = 0.245\\nsamples = 7\\nvalue = [1, 0, 0, 0, 6]'),\n",
              " Text(0.741770599059497, 0.2708333333333333, 'gini = 0.444\\nsamples = 3\\nvalue = [1, 0, 0, 0, 2]'),\n",
              " Text(0.7483132283786547, 0.2708333333333333, 'gini = 0.0\\nsamples = 4\\nvalue = [0, 0, 0, 0, 4]'),\n",
              " Text(0.7548558576978123, 0.3541666666666667, 'X[1] <= 3.05\\ngini = 0.444\\nsamples = 3\\nvalue = [1, 0, 0, 0, 2]'),\n",
              " Text(0.7515845430382335, 0.3125, 'gini = 0.0\\nsamples = 1\\nvalue = [1, 0, 0, 0, 0]'),\n",
              " Text(0.7581271723573911, 0.3125, 'gini = 0.0\\nsamples = 2\\nvalue = [0, 0, 0, 0, 2]'),\n",
              " Text(0.7415661418932734, 0.4375, 'gini = 0.0\\nsamples = 7\\nvalue = [0, 0, 0, 0, 7]'),\n",
              " Text(0.7448374565528522, 0.5625, 'X[1] <= 2.8\\ngini = 0.5\\nsamples = 2\\nvalue = [0, 0, 1, 0, 1]'),\n",
              " Text(0.7415661418932734, 0.5208333333333334, 'gini = 0.0\\nsamples = 1\\nvalue = [0, 0, 0, 0, 1]'),\n",
              " Text(0.748108771212431, 0.5208333333333334, 'gini = 0.0\\nsamples = 1\\nvalue = [0, 0, 1, 0, 0]'),\n",
              " Text(0.7579227151911675, 0.6041666666666666, 'X[2] <= 13.5\\ngini = 0.625\\nsamples = 8\\nvalue = [0, 2, 2, 0, 4]'),\n",
              " Text(0.7546514005315886, 0.5625, 'gini = 0.0\\nsamples = 1\\nvalue = [0, 0, 1, 0, 0]'),\n",
              " Text(0.7611940298507462, 0.5625, 'X[2] <= 14.85\\ngini = 0.571\\nsamples = 7\\nvalue = [0, 2, 1, 0, 4]'),\n",
              " Text(0.7546514005315886, 0.5208333333333334, 'X[2] <= 14.05\\ngini = 0.444\\nsamples = 3\\nvalue = [0, 0, 1, 0, 2]'),\n",
              " Text(0.7513800858720098, 0.4791666666666667, 'gini = 0.0\\nsamples = 1\\nvalue = [0, 0, 0, 0, 1]'),\n",
              " Text(0.7579227151911675, 0.4791666666666667, 'gini = 0.5\\nsamples = 2\\nvalue = [0, 0, 1, 0, 1]'),\n",
              " Text(0.7677366591699039, 0.5208333333333334, 'X[2] <= 15.4\\ngini = 0.5\\nsamples = 4\\nvalue = [0, 2, 0, 0, 2]'),\n",
              " Text(0.7644653445103251, 0.4791666666666667, 'gini = 0.0\\nsamples = 1\\nvalue = [0, 1, 0, 0, 0]'),\n",
              " Text(0.7710079738294827, 0.4791666666666667, 'X[2] <= 16.1\\ngini = 0.444\\nsamples = 3\\nvalue = [0, 1, 0, 0, 2]'),\n",
              " Text(0.7677366591699039, 0.4375, 'gini = 0.0\\nsamples = 1\\nvalue = [0, 0, 0, 0, 1]'),\n",
              " Text(0.7742792884890616, 0.4375, 'gini = 0.5\\nsamples = 2\\nvalue = [0, 1, 0, 0, 1]'),\n",
              " Text(0.7775506031486403, 0.6458333333333334, 'X[2] <= 19.025\\ngini = 0.062\\nsamples = 31\\nvalue = [1, 0, 0, 0, 30]'),\n",
              " Text(0.7742792884890616, 0.6041666666666666, 'gini = 0.0\\nsamples = 22\\nvalue = [0, 0, 0, 0, 22]'),\n",
              " Text(0.7808219178082192, 0.6041666666666666, 'X[1] <= 2.75\\ngini = 0.198\\nsamples = 9\\nvalue = [1, 0, 0, 0, 8]'),\n",
              " Text(0.7775506031486403, 0.5625, 'X[1] <= 2.65\\ngini = 0.375\\nsamples = 4\\nvalue = [1, 0, 0, 0, 3]'),\n",
              " Text(0.7742792884890616, 0.5208333333333334, 'gini = 0.0\\nsamples = 3\\nvalue = [0, 0, 0, 0, 3]'),\n",
              " Text(0.7808219178082192, 0.5208333333333334, 'gini = 0.0\\nsamples = 1\\nvalue = [1, 0, 0, 0, 0]'),\n",
              " Text(0.784093232467798, 0.5625, 'gini = 0.0\\nsamples = 5\\nvalue = [0, 0, 0, 0, 5]'),\n",
              " Text(0.8020854630954815, 0.6875, 'X[2] <= 15.975\\ngini = 0.09\\nsamples = 64\\nvalue = [1, 0, 2, 0, 61]'),\n",
              " Text(0.7988141484359027, 0.6458333333333334, 'gini = 0.0\\nsamples = 30\\nvalue = [0, 0, 0, 0, 30]'),\n",
              " Text(0.8053567777550603, 0.6458333333333334, 'X[2] <= 16.25\\ngini = 0.164\\nsamples = 34\\nvalue = [1, 0, 2, 0, 31]'),\n",
              " Text(0.7939071764465344, 0.6041666666666666, 'X[1] <= 3.75\\ngini = 0.444\\nsamples = 3\\nvalue = [0, 0, 1, 0, 2]'),\n",
              " Text(0.7906358617869557, 0.5625, 'gini = 0.0\\nsamples = 1\\nvalue = [0, 0, 0, 0, 1]'),\n",
              " Text(0.7971784911061133, 0.5625, 'X[1] <= 4.7\\ngini = 0.5\\nsamples = 2\\nvalue = [0, 0, 1, 0, 1]'),\n",
              " Text(0.7939071764465344, 0.5208333333333334, 'gini = 0.0\\nsamples = 1\\nvalue = [0, 0, 1, 0, 0]'),\n",
              " Text(0.8004498057656921, 0.5208333333333334, 'gini = 0.0\\nsamples = 1\\nvalue = [0, 0, 0, 0, 1]'),\n",
              " Text(0.8168063790635862, 0.6041666666666666, 'X[2] <= 16.925\\ngini = 0.123\\nsamples = 31\\nvalue = [1, 0, 1, 0, 29]'),\n",
              " Text(0.8102637497444285, 0.5625, 'X[2] <= 16.8\\ngini = 0.278\\nsamples = 6\\nvalue = [1, 0, 0, 0, 5]'),\n",
              " Text(0.8069924350848497, 0.5208333333333334, 'gini = 0.0\\nsamples = 5\\nvalue = [0, 0, 0, 0, 5]'),\n",
              " Text(0.8135350644040074, 0.5208333333333334, 'gini = 0.0\\nsamples = 1\\nvalue = [1, 0, 0, 0, 0]'),\n",
              " Text(0.8233490083827438, 0.5625, 'X[2] <= 17.925\\ngini = 0.077\\nsamples = 25\\nvalue = [0, 0, 1, 0, 24]'),\n",
              " Text(0.820077693723165, 0.5208333333333334, 'gini = 0.0\\nsamples = 14\\nvalue = [0, 0, 0, 0, 14]'),\n",
              " Text(0.8266203230423226, 0.5208333333333334, 'X[2] <= 18.325\\ngini = 0.165\\nsamples = 11\\nvalue = [0, 0, 1, 0, 10]'),\n",
              " Text(0.8233490083827438, 0.4791666666666667, 'X[1] <= 5.3\\ngini = 0.5\\nsamples = 2\\nvalue = [0, 0, 1, 0, 1]'),\n",
              " Text(0.820077693723165, 0.4375, 'gini = 0.0\\nsamples = 1\\nvalue = [0, 0, 1, 0, 0]'),\n",
              " Text(0.8266203230423226, 0.4375, 'gini = 0.0\\nsamples = 1\\nvalue = [0, 0, 0, 0, 1]'),\n",
              " Text(0.8298916377019014, 0.4791666666666667, 'gini = 0.0\\nsamples = 9\\nvalue = [0, 0, 0, 0, 9]'),\n",
              " Text(0.8904109589041096, 0.7291666666666666, 'X[1] <= 5.35\\ngini = 0.294\\nsamples = 119\\nvalue = [5, 13, 2, 0, 99]'),\n",
              " Text(0.8871396442445307, 0.6875, 'X[2] <= 19.725\\ngini = 0.273\\nsamples = 117\\nvalue = [5, 11, 2, 0, 99]'),\n",
              " Text(0.8536086689838479, 0.6458333333333334, 'X[1] <= 3.75\\ngini = 0.555\\nsamples = 20\\nvalue = [3, 5, 0, 0, 12]'),\n",
              " Text(0.8446125536700061, 0.6041666666666666, 'X[1] <= 2.45\\ngini = 0.494\\nsamples = 18\\nvalue = [2, 4, 0, 0, 12]'),\n",
              " Text(0.836434267021059, 0.5625, 'X[2] <= 19.575\\ngini = 0.444\\nsamples = 3\\nvalue = [0, 2, 0, 0, 1]'),\n",
              " Text(0.8331629523614803, 0.5208333333333334, 'gini = 0.5\\nsamples = 2\\nvalue = [0, 1, 0, 0, 1]'),\n",
              " Text(0.8397055816806379, 0.5208333333333334, 'gini = 0.0\\nsamples = 1\\nvalue = [0, 1, 0, 0, 0]'),\n",
              " Text(0.8527908403189531, 0.5625, 'X[1] <= 2.8\\ngini = 0.427\\nsamples = 15\\nvalue = [2, 2, 0, 0, 11]'),\n",
              " Text(0.8462482109997955, 0.5208333333333334, 'X[2] <= 19.425\\ngini = 0.531\\nsamples = 8\\nvalue = [2, 1, 0, 0, 5]'),\n",
              " Text(0.8429768963402168, 0.4791666666666667, 'gini = 0.0\\nsamples = 1\\nvalue = [0, 0, 0, 0, 1]'),\n",
              " Text(0.8495195256593744, 0.4791666666666667, 'X[2] <= 19.575\\ngini = 0.571\\nsamples = 7\\nvalue = [2, 1, 0, 0, 4]'),\n",
              " Text(0.8462482109997955, 0.4375, 'X[1] <= 2.6\\ngini = 0.611\\nsamples = 6\\nvalue = [2, 1, 0, 0, 3]'),\n",
              " Text(0.8429768963402168, 0.3958333333333333, 'gini = 0.625\\nsamples = 4\\nvalue = [1, 1, 0, 0, 2]'),\n",
              " Text(0.8495195256593744, 0.3958333333333333, 'gini = 0.5\\nsamples = 2\\nvalue = [1, 0, 0, 0, 1]'),\n",
              " Text(0.8527908403189531, 0.4375, 'gini = 0.0\\nsamples = 1\\nvalue = [0, 0, 0, 0, 1]'),\n",
              " Text(0.8593334696381109, 0.5208333333333334, 'X[1] <= 3.3\\ngini = 0.245\\nsamples = 7\\nvalue = [0, 1, 0, 0, 6]'),\n",
              " Text(0.856062154978532, 0.4791666666666667, 'gini = 0.0\\nsamples = 4\\nvalue = [0, 0, 0, 0, 4]'),\n",
              " Text(0.8626047842976896, 0.4791666666666667, 'X[1] <= 3.65\\ngini = 0.444\\nsamples = 3\\nvalue = [0, 1, 0, 0, 2]'),\n",
              " Text(0.8593334696381109, 0.4375, 'gini = 0.5\\nsamples = 2\\nvalue = [0, 1, 0, 0, 1]'),\n",
              " Text(0.8658760989572685, 0.4375, 'gini = 0.0\\nsamples = 1\\nvalue = [0, 0, 0, 0, 1]'),\n",
              " Text(0.8626047842976896, 0.6041666666666666, 'X[1] <= 4.1\\ngini = 0.5\\nsamples = 2\\nvalue = [1, 1, 0, 0, 0]'),\n",
              " Text(0.8593334696381109, 0.5625, 'gini = 0.0\\nsamples = 1\\nvalue = [1, 0, 0, 0, 0]'),\n",
              " Text(0.8658760989572685, 0.5625, 'gini = 0.0\\nsamples = 1\\nvalue = [0, 1, 0, 0, 0]'),\n",
              " Text(0.9206706195052137, 0.6458333333333334, 'X[2] <= 22.925\\ngini = 0.191\\nsamples = 97\\nvalue = [2, 6, 2, 0, 87]'),\n",
              " Text(0.9034962175424248, 0.6041666666666666, 'X[2] <= 20.675\\ngini = 0.178\\nsamples = 94\\nvalue = [1, 6, 2, 0, 85]'),\n",
              " Text(0.8789613575955837, 0.5625, 'X[2] <= 20.125\\ngini = 0.225\\nsamples = 31\\nvalue = [0, 4, 0, 0, 27]'),\n",
              " Text(0.8756900429360049, 0.5208333333333334, 'gini = 0.0\\nsamples = 15\\nvalue = [0, 0, 0, 0, 15]'),\n",
              " Text(0.8822326722551626, 0.5208333333333334, 'X[1] <= 2.95\\ngini = 0.375\\nsamples = 16\\nvalue = [0, 4, 0, 0, 12]'),\n",
              " Text(0.8756900429360049, 0.4791666666666667, 'X[1] <= 2.35\\ngini = 0.5\\nsamples = 6\\nvalue = [0, 3, 0, 0, 3]'),\n",
              " Text(0.8724187282764261, 0.4375, 'gini = 0.0\\nsamples = 1\\nvalue = [0, 0, 0, 0, 1]'),\n",
              " Text(0.8789613575955837, 0.4375, 'X[2] <= 20.425\\ngini = 0.48\\nsamples = 5\\nvalue = [0, 3, 0, 0, 2]'),\n",
              " Text(0.8756900429360049, 0.3958333333333333, 'gini = 0.0\\nsamples = 2\\nvalue = [0, 2, 0, 0, 0]'),\n",
              " Text(0.8822326722551626, 0.3958333333333333, 'X[1] <= 2.85\\ngini = 0.444\\nsamples = 3\\nvalue = [0, 1, 0, 0, 2]'),\n",
              " Text(0.8789613575955837, 0.3541666666666667, 'gini = 0.0\\nsamples = 2\\nvalue = [0, 0, 0, 0, 2]'),\n",
              " Text(0.8855039869147414, 0.3541666666666667, 'gini = 0.0\\nsamples = 1\\nvalue = [0, 1, 0, 0, 0]'),\n",
              " Text(0.8887753015743202, 0.4791666666666667, 'X[1] <= 3.45\\ngini = 0.18\\nsamples = 10\\nvalue = [0, 1, 0, 0, 9]'),\n",
              " Text(0.8855039869147414, 0.4375, 'gini = 0.0\\nsamples = 6\\nvalue = [0, 0, 0, 0, 6]'),\n",
              " Text(0.892046616233899, 0.4375, 'X[1] <= 3.65\\ngini = 0.375\\nsamples = 4\\nvalue = [0, 1, 0, 0, 3]'),\n",
              " Text(0.8887753015743202, 0.3958333333333333, 'gini = 0.0\\nsamples = 1\\nvalue = [0, 1, 0, 0, 0]'),\n",
              " Text(0.8953179308934778, 0.3958333333333333, 'gini = 0.0\\nsamples = 3\\nvalue = [0, 0, 0, 0, 3]'),\n",
              " Text(0.928031077489266, 0.5625, 'X[2] <= 22.375\\ngini = 0.15\\nsamples = 63\\nvalue = [1, 2, 2, 0, 58]'),\n",
              " Text(0.9182171335105296, 0.5208333333333334, 'X[1] <= 2.85\\ngini = 0.089\\nsamples = 43\\nvalue = [0, 0, 2, 0, 41]'),\n",
              " Text(0.9149458188509507, 0.4791666666666667, 'X[2] <= 21.825\\ngini = 0.219\\nsamples = 16\\nvalue = [0, 0, 2, 0, 14]'),\n",
              " Text(0.9051318748722142, 0.4375, 'X[1] <= 2.75\\ngini = 0.142\\nsamples = 13\\nvalue = [0, 0, 1, 0, 12]'),\n",
              " Text(0.9018605602126355, 0.3958333333333333, 'gini = 0.0\\nsamples = 9\\nvalue = [0, 0, 0, 0, 9]'),\n",
              " Text(0.9084031895317931, 0.3958333333333333, 'X[2] <= 21.375\\ngini = 0.375\\nsamples = 4\\nvalue = [0, 0, 1, 0, 3]'),\n",
              " Text(0.9051318748722142, 0.3541666666666667, 'gini = 0.0\\nsamples = 1\\nvalue = [0, 0, 1, 0, 0]'),\n",
              " Text(0.9116745041913719, 0.3541666666666667, 'gini = 0.0\\nsamples = 3\\nvalue = [0, 0, 0, 0, 3]'),\n",
              " Text(0.9247597628296872, 0.4375, 'X[2] <= 22.075\\ngini = 0.444\\nsamples = 3\\nvalue = [0, 0, 1, 0, 2]'),\n",
              " Text(0.9214884481701083, 0.3958333333333333, 'X[1] <= 2.4\\ngini = 0.5\\nsamples = 2\\nvalue = [0, 0, 1, 0, 1]'),\n",
              " Text(0.9182171335105296, 0.3541666666666667, 'gini = 0.0\\nsamples = 1\\nvalue = [0, 0, 0, 0, 1]'),\n",
              " Text(0.9247597628296872, 0.3541666666666667, 'gini = 0.0\\nsamples = 1\\nvalue = [0, 0, 1, 0, 0]'),\n",
              " Text(0.928031077489266, 0.3958333333333333, 'gini = 0.0\\nsamples = 1\\nvalue = [0, 0, 0, 0, 1]'),\n",
              " Text(0.9214884481701083, 0.4791666666666667, 'gini = 0.0\\nsamples = 27\\nvalue = [0, 0, 0, 0, 27]'),\n",
              " Text(0.9378450214680024, 0.5208333333333334, 'X[1] <= 3.9\\ngini = 0.265\\nsamples = 20\\nvalue = [1, 2, 0, 0, 17]'),\n",
              " Text(0.9345737068084237, 0.4791666666666667, 'X[1] <= 3.15\\ngini = 0.194\\nsamples = 19\\nvalue = [1, 1, 0, 0, 17]'),\n",
              " Text(0.9313023921488448, 0.4375, 'gini = 0.0\\nsamples = 13\\nvalue = [0, 0, 0, 0, 13]'),\n",
              " Text(0.9378450214680024, 0.4375, 'X[1] <= 3.25\\ngini = 0.5\\nsamples = 6\\nvalue = [1, 1, 0, 0, 4]'),\n",
              " Text(0.9345737068084237, 0.3958333333333333, 'gini = 0.0\\nsamples = 1\\nvalue = [1, 0, 0, 0, 0]'),\n",
              " Text(0.9411163361275813, 0.3958333333333333, 'X[1] <= 3.45\\ngini = 0.32\\nsamples = 5\\nvalue = [0, 1, 0, 0, 4]'),\n",
              " Text(0.9378450214680024, 0.3541666666666667, 'X[1] <= 3.35\\ngini = 0.5\\nsamples = 2\\nvalue = [0, 1, 0, 0, 1]'),\n",
              " Text(0.9345737068084237, 0.3125, 'gini = 0.0\\nsamples = 1\\nvalue = [0, 0, 0, 0, 1]'),\n",
              " Text(0.9411163361275813, 0.3125, 'gini = 0.0\\nsamples = 1\\nvalue = [0, 1, 0, 0, 0]'),\n",
              " Text(0.9443876507871601, 0.3541666666666667, 'gini = 0.0\\nsamples = 3\\nvalue = [0, 0, 0, 0, 3]'),\n",
              " Text(0.9411163361275813, 0.4791666666666667, 'gini = 0.0\\nsamples = 1\\nvalue = [0, 1, 0, 0, 0]'),\n",
              " Text(0.9378450214680024, 0.6041666666666666, 'X[1] <= 3.1\\ngini = 0.444\\nsamples = 3\\nvalue = [1, 0, 0, 0, 2]'),\n",
              " Text(0.9345737068084237, 0.5625, 'gini = 0.0\\nsamples = 2\\nvalue = [0, 0, 0, 0, 2]'),\n",
              " Text(0.9411163361275813, 0.5625, 'gini = 0.0\\nsamples = 1\\nvalue = [1, 0, 0, 0, 0]'),\n",
              " Text(0.8936822735636885, 0.6875, 'gini = 0.0\\nsamples = 2\\nvalue = [0, 2, 0, 0, 0]'),\n",
              " Text(0.8421622623185443, 0.7708333333333334, 'gini = 0.0\\nsamples = 26\\nvalue = [0, 0, 0, 0, 26]'),\n",
              " Text(0.9556327949294623, 0.9375, 'X[2] <= 3.2\\ngini = 0.08\\nsamples = 623\\nvalue = [0, 0, 597, 26, 0]'),\n",
              " Text(0.9345737068084237, 0.8958333333333334, 'X[1] <= 3.1\\ngini = 0.444\\nsamples = 24\\nvalue = [0, 0, 8, 16, 0]'),\n",
              " Text(0.9313023921488448, 0.8541666666666666, 'X[0] <= 11.05\\ngini = 0.397\\nsamples = 11\\nvalue = [0, 0, 8, 3, 0]'),\n",
              " Text(0.928031077489266, 0.8125, 'X[0] <= 0.4\\ngini = 0.198\\nsamples = 9\\nvalue = [0, 0, 8, 1, 0]'),\n",
              " Text(0.9247597628296872, 0.7708333333333334, 'gini = 0.0\\nsamples = 1\\nvalue = [0, 0, 0, 1, 0]'),\n",
              " Text(0.9313023921488448, 0.7708333333333334, 'gini = 0.0\\nsamples = 8\\nvalue = [0, 0, 8, 0, 0]'),\n",
              " Text(0.9345737068084237, 0.8125, 'gini = 0.0\\nsamples = 2\\nvalue = [0, 0, 0, 2, 0]'),\n",
              " Text(0.9378450214680024, 0.8541666666666666, 'gini = 0.0\\nsamples = 13\\nvalue = [0, 0, 0, 13, 0]'),\n",
              " Text(0.9766918830505009, 0.8958333333333334, 'X[2] <= 6.225\\ngini = 0.033\\nsamples = 599\\nvalue = [0, 0, 589, 10, 0]'),\n",
              " Text(0.9631977100797383, 0.8541666666666666, 'X[0] <= 13.35\\ngini = 0.167\\nsamples = 98\\nvalue = [0, 0, 89, 9, 0]'),\n",
              " Text(0.9460233081169495, 0.8125, 'X[0] <= 4.45\\ngini = 0.11\\nsamples = 86\\nvalue = [0, 0, 81, 5, 0]'),\n",
              " Text(0.9378450214680024, 0.7708333333333334, 'X[2] <= 3.5\\ngini = 0.038\\nsamples = 51\\nvalue = [0, 0, 50, 1, 0]'),\n",
              " Text(0.9345737068084237, 0.7291666666666666, 'X[0] <= 0.75\\ngini = 0.278\\nsamples = 6\\nvalue = [0, 0, 5, 1, 0]'),\n",
              " Text(0.9313023921488448, 0.6875, 'gini = 0.0\\nsamples = 1\\nvalue = [0, 0, 0, 1, 0]'),\n",
              " Text(0.9378450214680024, 0.6875, 'gini = 0.0\\nsamples = 5\\nvalue = [0, 0, 5, 0, 0]'),\n",
              " Text(0.9411163361275813, 0.7291666666666666, 'gini = 0.0\\nsamples = 45\\nvalue = [0, 0, 45, 0, 0]'),\n",
              " Text(0.9542015947658965, 0.7708333333333334, 'X[2] <= 5.975\\ngini = 0.202\\nsamples = 35\\nvalue = [0, 0, 31, 4, 0]'),\n",
              " Text(0.9476589654467389, 0.7291666666666666, 'X[1] <= 3.6\\ngini = 0.128\\nsamples = 29\\nvalue = [0, 0, 27, 2, 0]'),\n",
              " Text(0.9443876507871601, 0.6875, 'gini = 0.0\\nsamples = 16\\nvalue = [0, 0, 16, 0, 0]'),\n",
              " Text(0.9509302801063177, 0.6875, 'X[1] <= 4.15\\ngini = 0.26\\nsamples = 13\\nvalue = [0, 0, 11, 2, 0]'),\n",
              " Text(0.9476589654467389, 0.6458333333333334, 'X[0] <= 11.3\\ngini = 0.444\\nsamples = 3\\nvalue = [0, 0, 1, 2, 0]'),\n",
              " Text(0.9443876507871601, 0.6041666666666666, 'gini = 0.0\\nsamples = 2\\nvalue = [0, 0, 0, 2, 0]'),\n",
              " Text(0.9509302801063177, 0.6041666666666666, 'gini = 0.0\\nsamples = 1\\nvalue = [0, 0, 1, 0, 0]'),\n",
              " Text(0.9542015947658965, 0.6458333333333334, 'gini = 0.0\\nsamples = 10\\nvalue = [0, 0, 10, 0, 0]'),\n",
              " Text(0.9607442240850542, 0.7291666666666666, 'X[0] <= 8.35\\ngini = 0.444\\nsamples = 6\\nvalue = [0, 0, 4, 2, 0]'),\n",
              " Text(0.9574729094254754, 0.6875, 'gini = 0.0\\nsamples = 2\\nvalue = [0, 0, 0, 2, 0]'),\n",
              " Text(0.964015538744633, 0.6875, 'gini = 0.0\\nsamples = 4\\nvalue = [0, 0, 4, 0, 0]'),\n",
              " Text(0.980372112042527, 0.8125, 'X[2] <= 5.15\\ngini = 0.444\\nsamples = 12\\nvalue = [0, 0, 8, 4, 0]'),\n",
              " Text(0.9771007973829483, 0.7708333333333334, 'X[0] <= 25.0\\ngini = 0.49\\nsamples = 7\\nvalue = [0, 0, 3, 4, 0]'),\n",
              " Text(0.9738294827233694, 0.7291666666666666, 'X[1] <= 3.6\\ngini = 0.444\\nsamples = 6\\nvalue = [0, 0, 2, 4, 0]'),\n",
              " Text(0.9705581680637906, 0.6875, 'gini = 0.0\\nsamples = 1\\nvalue = [0, 0, 1, 0, 0]'),\n",
              " Text(0.9771007973829483, 0.6875, 'X[0] <= 16.5\\ngini = 0.32\\nsamples = 5\\nvalue = [0, 0, 1, 4, 0]'),\n",
              " Text(0.9738294827233694, 0.6458333333333334, 'X[1] <= 5.0\\ngini = 0.444\\nsamples = 3\\nvalue = [0, 0, 1, 2, 0]'),\n",
              " Text(0.9705581680637906, 0.6041666666666666, 'gini = 0.0\\nsamples = 1\\nvalue = [0, 0, 0, 1, 0]'),\n",
              " Text(0.9771007973829483, 0.6041666666666666, 'X[2] <= 4.875\\ngini = 0.5\\nsamples = 2\\nvalue = [0, 0, 1, 1, 0]'),\n",
              " Text(0.9738294827233694, 0.5625, 'gini = 0.0\\nsamples = 1\\nvalue = [0, 0, 1, 0, 0]'),\n",
              " Text(0.980372112042527, 0.5625, 'gini = 0.0\\nsamples = 1\\nvalue = [0, 0, 0, 1, 0]'),\n",
              " Text(0.980372112042527, 0.6458333333333334, 'gini = 0.0\\nsamples = 2\\nvalue = [0, 0, 0, 2, 0]'),\n",
              " Text(0.980372112042527, 0.7291666666666666, 'gini = 0.0\\nsamples = 1\\nvalue = [0, 0, 1, 0, 0]'),\n",
              " Text(0.9836434267021059, 0.7708333333333334, 'gini = 0.0\\nsamples = 5\\nvalue = [0, 0, 5, 0, 0]'),\n",
              " Text(0.9901860560212635, 0.8541666666666666, 'X[0] <= 23.75\\ngini = 0.004\\nsamples = 501\\nvalue = [0, 0, 500, 1, 0]'),\n",
              " Text(0.9869147413616848, 0.8125, 'gini = 0.0\\nsamples = 468\\nvalue = [0, 0, 468, 0, 0]'),\n",
              " Text(0.9934573706808424, 0.8125, 'X[0] <= 24.65\\ngini = 0.059\\nsamples = 33\\nvalue = [0, 0, 32, 1, 0]'),\n",
              " Text(0.9901860560212635, 0.7708333333333334, 'gini = 0.0\\nsamples = 1\\nvalue = [0, 0, 0, 1, 0]'),\n",
              " Text(0.9967286853404211, 0.7708333333333334, 'gini = 0.0\\nsamples = 32\\nvalue = [0, 0, 32, 0, 0]')]"
            ]
          },
          "metadata": {},
          "execution_count": 49
        },
        {
          "output_type": "display_data",
          "data": {
            "text/plain": [
              "<Figure size 432x288 with 1 Axes>"
            ],
            "image/png": "[encoded data removed]"
          },
          "metadata": {
            "needs_background": "light"
          }
        }
      ]
    },
    {
      "cell_type": "code",
      "source": [
        "Y_predD = dtree.predict(X_test)"
      ],
      "metadata": {
        "colab": {
          "base_uri": "https://localhost:8080/"
        },
        "id": "rIecgj3jLIjO",
        "outputId": "d62518e2-83d6-4891-fc23-64eaa4d91d90"
      },
      "execution_count": 53,
      "outputs": [
        {
          "output_type": "stream",
          "name": "stderr",
          "text": [
            "/usr/local/lib/python3.8/dist-packages/sklearn/base.py:450: UserWarning: X does not have valid feature names, but DecisionTreeClassifier was fitted with feature names\n",
            "  warnings.warn(\n"
          ]
        }
      ]
    },
    {
      "cell_type": "code",
      "source": [
        "cmD = confusion_matrix(Y_test, Y_predD)\n",
        "\n",
        "print (\"Confusion Matrix : \\n\", cmD)"
      ],
      "metadata": {
        "colab": {
          "base_uri": "https://localhost:8080/"
        },
        "id": "_AdEgMxpMzt8",
        "outputId": "1e5bd5a0-ff16-4929-c255-576d233d2856"
      },
      "execution_count": 54,
      "outputs": [
        {
          "output_type": "stream",
          "name": "stdout",
          "text": [
            "Confusion Matrix : \n",
            " [[ 3  8  0  0  2]\n",
            " [12 11  0  0  4]\n",
            " [41 46 78 13 20]\n",
            " [ 0  1  5  2  0]\n",
            " [81 64  0  0 48]]\n"
          ]
        }
      ]
    },
    {
      "cell_type": "code",
      "source": [
        "print (\"Accuracy : \", accuracy_score(Y_test, Y_pred))"
      ],
      "metadata": {
        "colab": {
          "base_uri": "https://localhost:8080/"
        },
        "id": "V8etoT7FNJ_N",
        "outputId": "69e5fe9e-ab5c-4e94-c78b-41e9609278f4"
      },
      "execution_count": 55,
      "outputs": [
        {
          "output_type": "stream",
          "name": "stdout",
          "text": [
            "Accuracy :  0.3234624145785877\n"
          ]
        }
      ]
    },
    {
      "cell_type": "code",
      "source": [],
      "metadata": {
        "id": "17JMdwd0NUNu"
      },
      "execution_count": null,
      "outputs": []
    }
  ]
}